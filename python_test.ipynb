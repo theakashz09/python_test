{
  "cells": [
    {
      "cell_type": "code",
      "execution_count": null,
      "metadata": {
        "id": "e8oPLpUsgSaY"
      },
      "outputs": [],
      "source": [
        "\n",
        "\n"
      ]
    },
    {
      "cell_type": "markdown",
      "metadata": {
        "id": "qPojnTx9okPy"
      },
      "source": [
        "1.Write a Python program that defines a function called \"add_numbers\" that takes two arguments (i.e., numbers) and returns their sum. Within the function, add the two numbers together and return the result using the return statement. Call the function with the values 5 and 6, and print out the returned result. This will result in the addition of 5 and 6, with the output of the program being the sum of these two numbers."
      ]
    },
    {
      "cell_type": "code",
      "execution_count": null,
      "metadata": {
        "colab": {
          "base_uri": "https://localhost:8080/"
        },
        "id": "6yLv72aZovHI",
        "outputId": "c9cf2722-cb75-4f83-f8ec-6a58ca88fbe9"
      },
      "outputs": [
        {
          "name": "stdout",
          "output_type": "stream",
          "text": [
            "11\n"
          ]
        }
      ],
      "source": [
        "def add_numbers(num1,num2):\n",
        "\n",
        "  return num1+num2\n",
        "\n",
        "result = add_numbers(5,6)\n",
        "print (result)\n"
      ]
    },
    {
      "cell_type": "markdown",
      "metadata": {
        "id": "pAUctAqZpzjn"
      },
      "source": [
        "\n",
        "2.Write a Python program that calculates the square root of a given number using a built-in function. Specifically, the program should take an integer or float input from the user, calculate its square root using the 'sqrt()' function from the 'math' module, and print out the result to the user. As an example, calculate the square root of the number 625 using this program, which should output the value of 25.\n"
      ]
    },
    {
      "cell_type": "code",
      "execution_count": null,
      "metadata": {
        "colab": {
          "base_uri": "https://localhost:8080/"
        },
        "id": "3mO68mDhp0to",
        "outputId": "ee825cb8-7ce7-43fa-bb9f-2f1d2361d9f1"
      },
      "outputs": [
        {
          "name": "stdout",
          "output_type": "stream",
          "text": [
            "the squre root of  625 is 25.0\n"
          ]
        }
      ],
      "source": [
        "import math\n",
        "number  = 625\n",
        "sqrt = math.sqrt(number)\n",
        "print (\"the squre root of \",number,\"is\",sqrt)\n"
      ]
    },
    {
      "cell_type": "markdown",
      "metadata": {
        "id": "B5io-eaprTVc"
      },
      "source": [
        "3.Write a program that prints all prime numbers between 0 to 50.\n",
        "\n"
      ]
    },
    {
      "cell_type": "code",
      "execution_count": null,
      "metadata": {
        "colab": {
          "base_uri": "https://localhost:8080/"
        },
        "id": "8QKukuijrV54",
        "outputId": "67646066-b05d-4381-b00d-6d24f78754a8"
      },
      "outputs": [
        {
          "name": "stdout",
          "output_type": "stream",
          "text": [
            "2\n",
            "3\n",
            "5\n",
            "7\n",
            "11\n",
            "13\n",
            "17\n",
            "19\n",
            "23\n",
            "29\n",
            "31\n",
            "37\n",
            "41\n",
            "43\n",
            "47\n"
          ]
        }
      ],
      "source": [
        "for number in range(2,51):\n",
        "  is_prime = True\n",
        "  for i in range(2,number):\n",
        "    if number % i ==0:\n",
        "      is_prime =False\n",
        "      break\n",
        "  if is_prime:\n",
        "    print (number)"
      ]
    },
    {
      "cell_type": "markdown",
      "metadata": {
        "id": "OfEFfRTMULY-"
      },
      "source": [
        "4. How can we swap the values of three variables (let's say a, b, and c) without using a fourth variable? For example, if we have a=5, b=8, and c=9, how can we obtain a=9, b=5, and c=8? The challenge is to perform this operation without using an additional variable to store any of the values during the swapping process.\n",
        "\n"
      ]
    },
    {
      "cell_type": "code",
      "execution_count": null,
      "metadata": {
        "colab": {
          "base_uri": "https://localhost:8080/"
        },
        "id": "TFSjg5gPUOPV",
        "outputId": "b0550330-4316-487c-c477-05071231d608"
      },
      "outputs": [
        {
          "name": "stdout",
          "output_type": "stream",
          "text": [
            "a = 9\n",
            "b = 5\n",
            "c = 8\n"
          ]
        }
      ],
      "source": [
        "a = 5\n",
        "b = 8\n",
        "c = 9\n",
        "\n",
        "a, b, c = c, a, b\n",
        "\n",
        "print(\"a =\", a)\n",
        "print(\"b =\", b)\n",
        "print(\"c =\", c)"
      ]
    },
    {
      "cell_type": "markdown",
      "metadata": {
        "id": "pQZzCZ6UVQAa"
      },
      "source": [
        "\n",
        "5. Can you write a program that determines the nature of a given number (in this case, 87) as being positive, negative, or zero? The program should be designed to take the number as input and perform the necessary calculations to determine if the number is positive (i.e., greater than zero), negative (i.e., less than zero), or zero (i.e., equal to zero). The output of the program should indicate which of these three categories the given number falls into.\n"
      ]
    },
    {
      "cell_type": "code",
      "execution_count": null,
      "metadata": {
        "colab": {
          "base_uri": "https://localhost:8080/"
        },
        "id": "SwTkVMc1Vn2t",
        "outputId": "1ae2b83c-1825-4b7f-a7d8-53dd8961d14b"
      },
      "outputs": [
        {
          "name": "stdout",
          "output_type": "stream",
          "text": [
            "the number is positive\n"
          ]
        }
      ],
      "source": [
        "num = 87\n",
        "\n",
        "if num > 0:\n",
        "  print (\"the number is positive\")\n",
        "elif num < 0:\n",
        "  print (\"the number is negative\")\n",
        "else :\n",
        "  print (\"the number is zero\")"
      ]
    },
    {
      "cell_type": "markdown",
      "metadata": {
        "id": "B4tQatHWWQe5"
      },
      "source": [
        "6. How can you create a program that determines whether a given number (in this case, 98) is even or odd? The program should be designed to take the number as input and perform the necessary calculations to determine whether it is divisible by two. If the number is divisible by two without leaving a remainder, it is an even number, and if there is a remainder, it is an odd number. The output of the program should indicate whether the given number is even or odd.\n"
      ]
    },
    {
      "cell_type": "code",
      "execution_count": null,
      "metadata": {
        "colab": {
          "base_uri": "https://localhost:8080/"
        },
        "id": "2AVcwC7jWShl",
        "outputId": "cd8d2e2a-50fb-4813-d71e-0cc6e0b9a132"
      },
      "outputs": [
        {
          "name": "stdout",
          "output_type": "stream",
          "text": [
            "the number is even\n"
          ]
        }
      ],
      "source": [
        "num = 98\n",
        "\n",
        "if num % 2 == 0:\n",
        "  print (\"the number is even\")\n",
        "else:\n",
        "  print (\"the number is odd\")"
      ]
    },
    {
      "cell_type": "markdown",
      "metadata": {
        "id": "CziowuljX0R8"
      },
      "source": [
        "7. Write a program for sum of digits.the digits are 76543 and the output should be  25.\n"
      ]
    },
    {
      "cell_type": "code",
      "execution_count": null,
      "metadata": {
        "colab": {
          "base_uri": "https://localhost:8080/"
        },
        "id": "JueAXwC4YBcN",
        "outputId": "b0b5a2b6-3a79-4bcf-c4b9-fab4430938f6"
      },
      "outputs": [
        {
          "name": "stdout",
          "output_type": "stream",
          "text": [
            "the sum of digits is: 25\n"
          ]
        }
      ],
      "source": [
        "num = 76543\n",
        "sum_of_digits = 0\n",
        "\n",
        "while num > 0:\n",
        "   sum_of_digits += num %10\n",
        "   num //=10\n",
        "\n",
        "print (\"the sum of digits is:\", sum_of_digits)"
      ]
    },
    {
      "cell_type": "markdown",
      "metadata": {
        "id": "NemtVE2vZ1ws"
      },
      "source": [
        "8. Write a program for reversing the given number  5436 and the output  should be 6345.\n"
      ]
    },
    {
      "cell_type": "code",
      "execution_count": null,
      "metadata": {
        "colab": {
          "base_uri": "https://localhost:8080/"
        },
        "id": "RYh0ItXOZ8SB",
        "outputId": "80d69768-7a5a-406e-f862-b5e0c3c0ef47"
      },
      "outputs": [
        {
          "name": "stdout",
          "output_type": "stream",
          "text": [
            "The reversed number is : 6345\n"
          ]
        }
      ],
      "source": [
        "num = 5436\n",
        "reverse = 0\n",
        "while num > 0:\n",
        "  digit = num % 10\n",
        "  reverse = (reverse * 10) + digit\n",
        "  num //=10\n",
        "\n",
        "print (\"The reversed number is :\",reverse)"
      ]
    },
    {
      "cell_type": "markdown",
      "metadata": {
        "id": "rBzlVatoa_2f"
      },
      "source": [
        "9.Write a program to check  a given number 371 is an Armstrong number?\n"
      ]
    },
    {
      "cell_type": "code",
      "execution_count": null,
      "metadata": {
        "colab": {
          "base_uri": "https://localhost:8080/"
        },
        "id": "eXi17_LkbfUf",
        "outputId": "c3c80040-ba04-447b-ea7a-809e2389bb5d"
      },
      "outputs": [
        {
          "name": "stdout",
          "output_type": "stream",
          "text": [
            "371 is an armstrong number\n"
          ]
        }
      ],
      "source": [
        "def armstrong_number(num):\n",
        "  num_str = str(num)\n",
        "  digits = len(num_str )\n",
        "\n",
        "  sum_of_cubes = sum([int(digit)**digits for digit in num_str])\n",
        "\n",
        "  if sum_of_cubes == num:\n",
        "    return True\n",
        "  else :\n",
        "    return False\n",
        "# test the function\n",
        "num = 371\n",
        "if armstrong_number(num):\n",
        "   print (num,\"is an armstrong number\")\n",
        "else:\n",
        "    print (num,\"is not an armstrong number\")"
      ]
    },
    {
      "cell_type": "markdown",
      "metadata": {
        "id": "vzX3sA6td54a"
      },
      "source": [
        "10. Write a program the given year is 1996  a leap year.\n"
      ]
    },
    {
      "cell_type": "code",
      "execution_count": null,
      "metadata": {
        "colab": {
          "base_uri": "https://localhost:8080/"
        },
        "id": "oAJKqNtIeAUh",
        "outputId": "83f59806-602e-4bce-8d90-4a41d999db0c"
      },
      "outputs": [
        {
          "name": "stdout",
          "output_type": "stream",
          "text": [
            "1996 is a leap year\n"
          ]
        }
      ],
      "source": [
        "year = 1996\n",
        "\n",
        "if (year % 4 == 0 and year % 100 != 0) or (year % 400 == 0):\n",
        "\n",
        "     print (year,\"is a leap year\")\n",
        "else:\n",
        "    print (year,\"is not leap year\")"
      ]
    },
    {
      "cell_type": "markdown",
      "metadata": {
        "id": "4cgK4GSUl3aT"
      },
      "source": [
        "11.Create a list in python using the followings: 2,3,4,5,6,7 with variable ‘a’\n",
        "Add ‘mango to the above list\n",
        "Also add banana, grapes & orange in the list\n",
        "insert apple in the 5th position of a variable ‘a’\n",
        "Remove last item from the list\n"
      ]
    },
    {
      "cell_type": "code",
      "execution_count": null,
      "metadata": {
        "colab": {
          "base_uri": "https://localhost:8080/"
        },
        "id": "rjMTpdMSl-wN",
        "outputId": "7ac70410-6f27-4c24-87db-334d3d412890"
      },
      "outputs": [
        {
          "name": "stdout",
          "output_type": "stream",
          "text": [
            "[2, 3, 4, 5, 'apple', 6, 7, 'mango', 'banana', 'grapes']\n"
          ]
        }
      ],
      "source": [
        "a =[2,3,4,5,6,7]\n",
        "a.append(\"mango\")\n",
        "a.extend([\"banana\",\"grapes\",\"orange\"])\n",
        "a.insert(4,\"apple\")\n",
        "a.pop()\n",
        "\n",
        "print (a)"
      ]
    },
    {
      "cell_type": "markdown",
      "metadata": {
        "id": "BuJgcViLm7VX"
      },
      "source": [
        "12.\n",
        "L = [1,2,3,4,5,6,7]\n",
        "Using the above list slice from 1:4\n"
      ]
    },
    {
      "cell_type": "code",
      "execution_count": null,
      "metadata": {
        "colab": {
          "base_uri": "https://localhost:8080/"
        },
        "id": "MWxRIOZEnEBN",
        "outputId": "f45cfbba-a15e-4d85-9d6e-ee6e5f455bed"
      },
      "outputs": [
        {
          "name": "stdout",
          "output_type": "stream",
          "text": [
            "[2, 3, 4]\n"
          ]
        }
      ],
      "source": [
        "L = [1,2,3,4,5,6,7]\n",
        "slice_L = L[1:4]\n",
        "\n",
        "print (slice_L)"
      ]
    },
    {
      "cell_type": "markdown",
      "metadata": {
        "id": "R7NyILPqndqG"
      },
      "source": [
        "13.Reverse the order of given string L = [4,5,6,8,3]"
      ]
    },
    {
      "cell_type": "code",
      "execution_count": null,
      "metadata": {
        "colab": {
          "base_uri": "https://localhost:8080/"
        },
        "id": "sz7JduLAnh72",
        "outputId": "87403088-f61d-4b55-8520-7e1587cc61de"
      },
      "outputs": [
        {
          "name": "stdout",
          "output_type": "stream",
          "text": [
            "[3, 7, 6, 5, 4]\n"
          ]
        }
      ],
      "source": [
        "L = [4,5,6,7,3]\n",
        "L.reverse()\n",
        "\n",
        "print(L)"
      ]
    },
    {
      "cell_type": "markdown",
      "metadata": {
        "id": "OJvMX2Q4nybH"
      },
      "source": [
        "14.Use list comprehension to square the given list L=[2,4,7,3,6,8]"
      ]
    },
    {
      "cell_type": "code",
      "execution_count": null,
      "metadata": {
        "colab": {
          "base_uri": "https://localhost:8080/"
        },
        "id": "nUfml0Gun4gm",
        "outputId": "99dbee14-b31a-4f5a-d20a-cc5e5e4beeae"
      },
      "outputs": [
        {
          "name": "stdout",
          "output_type": "stream",
          "text": [
            "[4, 16, 49, 9, 36, 64]\n"
          ]
        }
      ],
      "source": [
        "L =[2,4,7,3,6,8]\n",
        "square_l = [x**2 for x in L]\n",
        "print (square_l)"
      ]
    },
    {
      "cell_type": "markdown",
      "metadata": {
        "id": "1mEyd_SAoPdl"
      },
      "source": [
        "15.Create a function that takes in a tuple of integers and returns the sum of the integers. Test the function with a tuple of your choice.\n"
      ]
    },
    {
      "cell_type": "code",
      "execution_count": null,
      "metadata": {
        "colab": {
          "base_uri": "https://localhost:8080/"
        },
        "id": "EesmJ-YfoheN",
        "outputId": "bcf74213-505c-4c8b-c002-c28c53c86c57"
      },
      "outputs": [
        {
          "name": "stdout",
          "output_type": "stream",
          "text": [
            "28\n"
          ]
        }
      ],
      "source": [
        "def tuple_sum (t):\n",
        "  return sum(t)\n",
        "\n",
        "my_tuple = (1,2,3,4,5,6,7)\n",
        "print (tuple_sum(my_tuple))"
      ]
    },
    {
      "cell_type": "markdown",
      "metadata": {
        "id": "QVlgqNUbo8Rc"
      },
      "source": [
        "16.Create two sets of your favorite fruits, and use the union() method to combine them into a single set. Print the resulting set to the console.\n"
      ]
    },
    {
      "cell_type": "code",
      "execution_count": null,
      "metadata": {
        "colab": {
          "base_uri": "https://localhost:8080/"
        },
        "id": "qh5MCh6wrCHQ",
        "outputId": "892dfe2a-7421-4892-9c69-e082d5d5ba58"
      },
      "outputs": [
        {
          "name": "stdout",
          "output_type": "stream",
          "text": [
            "{'mango', 'apple', 'banana', 'pineapple', 'orange', 'lichi'}\n"
          ]
        }
      ],
      "source": [
        "set_1 = {\"mango\",\"orange\",\"apple\"}\n",
        "set_2 = {\"banana\",\"lichi\",\"pineapple\"}\n",
        "\n",
        "combine_set = set_1.union(set_2)\n",
        "print (combine_set)"
      ]
    },
    {
      "cell_type": "markdown",
      "metadata": {
        "id": "NjcoS8NtrxIn"
      },
      "source": [
        "17.Create a set of random words, and use the add() method to add a new word to the set. Print the resulting set to the console.\n"
      ]
    },
    {
      "cell_type": "code",
      "execution_count": null,
      "metadata": {
        "colab": {
          "base_uri": "https://localhost:8080/"
        },
        "id": "1zLpPyeYsJb9",
        "outputId": "a598853f-5346-4555-e8a4-90ad2b16fe86"
      },
      "outputs": [
        {
          "name": "stdout",
          "output_type": "stream",
          "text": [
            "{'ram', 'cpu', 'monitor', 'mouse', 'keyboard'}\n"
          ]
        }
      ],
      "source": [
        "set_ran = {\"cpu\",\"mouse\",\"keyboard\",\"monitor\"}\n",
        "\n",
        "set_ran.add(\"ram\")\n",
        "print (set_ran)"
      ]
    },
    {
      "cell_type": "markdown",
      "metadata": {
        "id": "Ep6KpOwBsz6c"
      },
      "source": [
        "18.Create a set of your favorite animals, and use the remove() method to remove one animal from the set. Print the resulting set to the console.\n"
      ]
    },
    {
      "cell_type": "code",
      "execution_count": null,
      "metadata": {
        "colab": {
          "base_uri": "https://localhost:8080/"
        },
        "id": "EeBoSfqos7g9",
        "outputId": "5d86b294-6408-4ab4-c447-b6ad1ec74b05"
      },
      "outputs": [
        {
          "name": "stdout",
          "output_type": "stream",
          "text": [
            "{'dear', 'dog', 'cow', 'hourse'}\n"
          ]
        }
      ],
      "source": [
        "my_set = {\"cow\",\"dog\",\"rabbit\",\"dear\",\"hourse\"}\n",
        "my_set.remove(\"rabbit\")\n",
        "\n",
        "print (my_set)"
      ]
    },
    {
      "cell_type": "markdown",
      "metadata": {
        "id": "NSg9wHEptdRM"
      },
      "source": [
        "19.favorite_books = {\"1984\", \"To Kill a Mockingbird\", \"Pride and Prejudice\"}\n",
        "      favorite_movies = [\"The Shawshank Redemption\", \"The Godfather\", \"The Dark Knight\"]\n",
        "      Use the zip() function to combine the book set and movie list into a list of tuples representing book/movie pairs.\n",
        "      Print the resulting list.\n"
      ]
    },
    {
      "cell_type": "code",
      "execution_count": null,
      "metadata": {
        "colab": {
          "base_uri": "https://localhost:8080/"
        },
        "id": "ZDdhJoZ8trrS",
        "outputId": "31bc0136-3d83-4b74-f864-be6c8213a623"
      },
      "outputs": [
        {
          "name": "stdout",
          "output_type": "stream",
          "text": [
            "[('The Shawshank Redemption', 'To Kill a Mockingbird'), ('The Godfather', '1984'), ('The Dark Knight', 'Pride and Prejudice')]\n"
          ]
        }
      ],
      "source": [
        "favorite_books ={\"1984\", \"To Kill a Mockingbird\", \"Pride and Prejudice\"}\n",
        "favorite_movies =[\"The Shawshank Redemption\", \"The Godfather\", \"The Dark Knight\"]\n",
        "# Combine the book set and movie list into a list of tuples using the zip() function\n",
        "movie_book_pairs = list(zip(favorite_movies,favorite_books))\n",
        "\n",
        "print (movie_book_pairs)\n"
      ]
    },
    {
      "cell_type": "markdown",
      "metadata": {
        "id": "aOkxlQlyufJZ"
      },
      "source": [
        "20.Write a Python program to find the difference between consecutive numbers in a\n",
        "\n",
        "1.   List item\n",
        "2.   List item\n",
        "\n",
        "list.\n"
      ]
    },
    {
      "cell_type": "code",
      "execution_count": null,
      "metadata": {
        "colab": {
          "base_uri": "https://localhost:8080/"
        },
        "id": "1T_WJWXuvwFv",
        "outputId": "65bd6e3a-5090-49f1-9008-267b890bfc44"
      },
      "outputs": [
        {
          "name": "stdout",
          "output_type": "stream",
          "text": [
            "[1, 1, 7, 5, 3]\n"
          ]
        }
      ],
      "source": [
        "def consecutive_difference(lst):\n",
        "  diff_lst = []\n",
        "  for i in range (len(lst)-1):\n",
        "    diff_lst.append(abs(lst[i]-lst[i+1]))\n",
        "  return diff_lst\n",
        "\n",
        "\n",
        "mylist = [1,2,3,10,5,8]\n",
        "diff_list= consecutive_difference(mylist)\n",
        "\n",
        "print (diff_list)\n"
      ]
    },
    {
      "cell_type": "markdown",
      "metadata": {
        "id": "Gqah_5jLHs6i"
      },
      "source": [
        "21.Create a dictionary called fruits with the following key-value pairs:\n",
        "\"apple\": 0.75\n",
        "\"banana\": 1.25\n",
        "\"orange\": 0.90\n",
        "Then, print out the price of a banana.\n"
      ]
    },
    {
      "cell_type": "code",
      "execution_count": null,
      "metadata": {
        "colab": {
          "base_uri": "https://localhost:8080/"
        },
        "id": "Ng9YN1CEH2-j",
        "outputId": "ce164a91-cabc-46ed-9d4f-40f512ebf9c1"
      },
      "outputs": [
        {
          "name": "stdout",
          "output_type": "stream",
          "text": [
            "1.25\n"
          ]
        }
      ],
      "source": [
        "fruits = {\n",
        "\n",
        "          \"apple\":0.75,\n",
        "          \"banana\":1.25,\n",
        "          \"orange\":0.90\n",
        "}\n",
        "\n",
        "print (fruits[\"banana\"])"
      ]
    },
    {
      "cell_type": "markdown",
      "metadata": {
        "id": "vTyBDxhqISqt"
      },
      "source": [
        "22.Create an empty dictionary called ages. Add the following key-value pairs to the dictionary:\n",
        "\"Alice\": 30\n",
        "\"Bob\": 25\n",
        "\"Charlie\": 35\n",
        "Then, print out the age of Charlie."
      ]
    },
    {
      "cell_type": "code",
      "execution_count": null,
      "metadata": {
        "colab": {
          "base_uri": "https://localhost:8080/"
        },
        "id": "OAmrlL_rIbBX",
        "outputId": "37ced4a4-a9ec-4aa0-bcf8-bdc91148395c"
      },
      "outputs": [
        {
          "name": "stdout",
          "output_type": "stream",
          "text": [
            "35\n"
          ]
        }
      ],
      "source": [
        "ages = {}\n",
        "\n",
        "ages[\"Alice\"]=30\n",
        "ages[\"Bob\"]=25\n",
        "ages[\"Charlie\"]=35\n",
        "\n",
        "print (ages[\"Charlie\"])"
      ]
    },
    {
      "cell_type": "markdown",
      "metadata": {
        "id": "coEP5MFAI4Kg"
      },
      "source": [
        "23.Write a function called word_count(text) that takes a string as input and returns a dictionary where each key is a word in the text and its value is the number of times that word appears in the text. For example, word_count(\"hello world hello\") should return {\"hello\": 2, \"world\": 1}."
      ]
    },
    {
      "cell_type": "code",
      "execution_count": null,
      "metadata": {
        "colab": {
          "base_uri": "https://localhost:8080/"
        },
        "id": "oK5T0wxbJJ72",
        "outputId": "3147847d-8e83-47b5-8d16-5e45a9a8a7f8"
      },
      "outputs": [
        {
          "name": "stdout",
          "output_type": "stream",
          "text": [
            "{'hello': 2, 'world': 1}\n"
          ]
        }
      ],
      "source": [
        "def word_count(text):\n",
        "  # convert input string to lowercase and split into word\n",
        "  words = text.lower().split()\n",
        "  # an empty dictionary initialize\n",
        "  counts = {}\n",
        "\n",
        "  for word in words:\n",
        "    if word in counts:\n",
        "      counts[word]+=1\n",
        "    else:\n",
        "      counts[word]=1\n",
        "  return counts\n",
        "\n",
        "# example\n",
        "text = \"hello world hello\"\n",
        "counts = word_count(text)\n",
        "print (counts)\n"
      ]
    },
    {
      "cell_type": "markdown",
      "metadata": {
        "id": "nJ0GR7AmKYUl"
      },
      "source": [
        "24.Create a dictionary called phone_book with the following key-value pairs:\n",
        "\"Alice\": \"555-1234\"\n",
        "\"Bob\": \"555-5678\"\n",
        "\"Charlie\": \"555-9012\"\n",
        "Then, prompt the user to enter a name and print out the corresponding phone number. If the name is not in the phone book, print out a message saying that the name was not found.\n",
        "\n"
      ]
    },
    {
      "cell_type": "code",
      "execution_count": null,
      "metadata": {
        "colab": {
          "base_uri": "https://localhost:8080/"
        },
        "id": "yQg01dCSKhkE",
        "outputId": "f5807c54-9139-424d-9364-7993f49bad14"
      },
      "outputs": [
        {
          "name": "stdout",
          "output_type": "stream",
          "text": [
            "enter a  nameakash\n",
            "akash was not found in the phone book\n"
          ]
        }
      ],
      "source": [
        "phone_book = {\n",
        "\n",
        "              \"Alice\": \"555-1234\",\n",
        "              \"Bob\": \"555-5678\",\n",
        "              \"Charlie\": \"555-9012\"\n",
        "}\n",
        "name = input(\"enter a  name\")\n",
        "\n",
        "\n",
        "if name in phone_book:\n",
        "  phone_number = phone_book[name]\n",
        "  print (f\"{name} phone number is {phone_number}\")\n",
        "else:\n",
        "  print (f\"{name} was not found in the phone book\")\n",
        "\n",
        "\n",
        "\n",
        "\n",
        "\n"
      ]
    },
    {
      "cell_type": "markdown",
      "metadata": {
        "id": "I4Aj1a2wLp45"
      },
      "source": [
        "25.Write a program that prompts the user to enter a number between 1 and 10. If the number is less than 5, print out \"Too low!\", otherwise print out \"Too high!\".\n"
      ]
    },
    {
      "cell_type": "code",
      "execution_count": null,
      "metadata": {
        "colab": {
          "base_uri": "https://localhost:8080/"
        },
        "id": "fEoUiwsWLvYp",
        "outputId": "88221947-7085-4e48-954d-bb8e4433d2e8"
      },
      "outputs": [
        {
          "name": "stdout",
          "output_type": "stream",
          "text": [
            "Enter a number between 1 and 10: 9\n",
            "Too high\n"
          ]
        }
      ],
      "source": [
        "number  = int(input(\"Enter a number between 1 and 10: \"))\n",
        "\n",
        "if number < 5:\n",
        "  print (\"Too low!\")\n",
        "else :\n",
        "  print (\"Too high\")"
      ]
    },
    {
      "cell_type": "markdown",
      "metadata": {
        "id": "haDa0LscIUv5"
      },
      "source": [
        "26.Write a program that prompts the user to enter a password. If the password is \"password123\", print out \"Access granted\", otherwise print out \"Access denied\".\n"
      ]
    },
    {
      "cell_type": "code",
      "execution_count": null,
      "metadata": {
        "colab": {
          "base_uri": "https://localhost:8080/"
        },
        "id": "7UXw-XpZIpx7",
        "outputId": "b7f69697-fa3c-4696-e032-9cece6517b2a"
      },
      "outputs": [
        {
          "name": "stdout",
          "output_type": "stream",
          "text": [
            "enter a password:  12454y\n",
            "Access denied\n"
          ]
        }
      ],
      "source": [
        "# prompt user to enter password\n",
        "password = input (\"enter a password:  \")\n",
        "# check password correct or not\n",
        "if password == \"password123\":\n",
        "  print (\"Access granted\")\n",
        "else:\n",
        "  print (\"Access denied\")\n"
      ]
    },
    {
      "cell_type": "markdown",
      "metadata": {
        "id": "qCsPRlltJkJ8"
      },
      "source": [
        "27.Write a program that prompts the user to enter a positive integer. Then, use a loop to print out all the odd numbers from 1 to that integer.\n"
      ]
    },
    {
      "cell_type": "code",
      "execution_count": null,
      "metadata": {
        "colab": {
          "base_uri": "https://localhost:8080/"
        },
        "id": "gqwOwjHDJrFQ",
        "outputId": "ee315057-dc90-451a-846b-4bc4023914ba"
      },
      "outputs": [
        {
          "name": "stdout",
          "output_type": "stream",
          "text": [
            "enter a positive integer25\n",
            "1\n",
            "3\n",
            "5\n",
            "7\n",
            "9\n",
            "11\n",
            "13\n",
            "15\n",
            "17\n",
            "19\n",
            "21\n",
            "23\n",
            "25\n"
          ]
        }
      ],
      "source": [
        "# prompt user to enter a positive integer\n",
        "num = int(input(\"enter a positive integer\"))\n",
        "# print out all the odd number fron 1 to num\n",
        "\n",
        "for i in range (1, num+1, 2):\n",
        "  print (i)"
      ]
    },
    {
      "cell_type": "code",
      "execution_count": null,
      "metadata": {
        "colab": {
          "base_uri": "https://localhost:8080/"
        },
        "id": "9-n2-4gTMA4S",
        "outputId": "99b7b922-2d06-4bb0-a99c-c4f0483c5445"
      },
      "outputs": [
        {
          "name": "stdout",
          "output_type": "stream",
          "text": [
            "enter a positive integer:  25\n",
            "1\n",
            "3\n",
            "5\n",
            "7\n",
            "9\n",
            "11\n",
            "13\n",
            "15\n",
            "17\n",
            "19\n",
            "21\n",
            "23\n",
            "25\n"
          ]
        }
      ],
      "source": [
        "# using while loop\n",
        "num = int (input(\"enter a positive integer:  \"))\n",
        "\n",
        "i = 1\n",
        "while i <= num:\n",
        "  print (i)\n",
        "  i+=2\n",
        "\n"
      ]
    },
    {
      "cell_type": "markdown",
      "metadata": {
        "id": "wkY2neYWLaWU"
      },
      "source": [
        "28.Write a program that generates a random number between 1 and 100 and then prompts the user to guess the number. If the user's guess is too low, print out \"Too low!\", if the guess is too high, print out \"Too high!\", and if the guess is correct, print out \"You win!\".\n"
      ]
    },
    {
      "cell_type": "code",
      "execution_count": null,
      "metadata": {
        "colab": {
          "base_uri": "https://localhost:8080/",
          "height": 807
        },
        "id": "t4fKZKH5MpDi",
        "outputId": "70efd546-5d77-4627-92ce-af59209c147f"
      },
      "outputs": [
        {
          "name": "stdout",
          "output_type": "stream",
          "text": [
            "guess number 1 to 100: 45\n",
            "too low\n",
            "guess again: 75\n",
            "too high\n",
            "guess again: 50\n",
            "too low\n",
            "guess again: 55\n",
            "too low\n",
            "guess again: 65\n",
            "too low\n",
            "guess again: 98\n",
            "too high\n",
            "guess again: 88\n",
            "too high\n",
            "guess again: 75\n",
            "too high\n",
            "guess again: 80\n",
            "too high\n",
            "guess again: 56\n",
            "too low\n",
            "guess again: 59\n",
            "too low\n",
            "guess again: 60\n",
            "too low\n",
            "guess again: 75\n",
            "too high\n"
          ]
        },
        {
          "ename": "KeyboardInterrupt",
          "evalue": "Interrupted by user",
          "output_type": "error",
          "traceback": [
            "\u001b[0;31m---------------------------------------------------------------------------\u001b[0m",
            "\u001b[0;31mKeyboardInterrupt\u001b[0m                         Traceback (most recent call last)",
            "\u001b[0;32m<ipython-input-10-d2067330a713>\u001b[0m in \u001b[0;36m<cell line: 9>\u001b[0;34m()\u001b[0m\n\u001b[1;32m     12\u001b[0m   \u001b[0;32melse\u001b[0m\u001b[0;34m:\u001b[0m\u001b[0;34m\u001b[0m\u001b[0;34m\u001b[0m\u001b[0m\n\u001b[1;32m     13\u001b[0m     \u001b[0mprint\u001b[0m \u001b[0;34m(\u001b[0m\u001b[0;34m\"too high\"\u001b[0m\u001b[0;34m)\u001b[0m\u001b[0;34m\u001b[0m\u001b[0;34m\u001b[0m\u001b[0m\n\u001b[0;32m---> 14\u001b[0;31m   \u001b[0mguess\u001b[0m \u001b[0;34m=\u001b[0m \u001b[0mint\u001b[0m \u001b[0;34m(\u001b[0m\u001b[0minput\u001b[0m \u001b[0;34m(\u001b[0m\u001b[0;34m\"guess again: \"\u001b[0m\u001b[0;34m)\u001b[0m\u001b[0;34m)\u001b[0m\u001b[0;34m\u001b[0m\u001b[0;34m\u001b[0m\u001b[0m\n\u001b[0m\u001b[1;32m     15\u001b[0m \u001b[0;34m\u001b[0m\u001b[0m\n\u001b[1;32m     16\u001b[0m \u001b[0mprint\u001b[0m \u001b[0;34m(\u001b[0m\u001b[0;34m\"you win\"\u001b[0m\u001b[0;34m)\u001b[0m\u001b[0;34m\u001b[0m\u001b[0;34m\u001b[0m\u001b[0m\n",
            "\u001b[0;32m/usr/local/lib/python3.10/dist-packages/ipykernel/kernelbase.py\u001b[0m in \u001b[0;36mraw_input\u001b[0;34m(self, prompt)\u001b[0m\n\u001b[1;32m    849\u001b[0m                 \u001b[0;34m\"raw_input was called, but this frontend does not support input requests.\"\u001b[0m\u001b[0;34m\u001b[0m\u001b[0;34m\u001b[0m\u001b[0m\n\u001b[1;32m    850\u001b[0m             )\n\u001b[0;32m--> 851\u001b[0;31m         return self._input_request(str(prompt),\n\u001b[0m\u001b[1;32m    852\u001b[0m             \u001b[0mself\u001b[0m\u001b[0;34m.\u001b[0m\u001b[0m_parent_ident\u001b[0m\u001b[0;34m,\u001b[0m\u001b[0;34m\u001b[0m\u001b[0;34m\u001b[0m\u001b[0m\n\u001b[1;32m    853\u001b[0m             \u001b[0mself\u001b[0m\u001b[0;34m.\u001b[0m\u001b[0m_parent_header\u001b[0m\u001b[0;34m,\u001b[0m\u001b[0;34m\u001b[0m\u001b[0;34m\u001b[0m\u001b[0m\n",
            "\u001b[0;32m/usr/local/lib/python3.10/dist-packages/ipykernel/kernelbase.py\u001b[0m in \u001b[0;36m_input_request\u001b[0;34m(self, prompt, ident, parent, password)\u001b[0m\n\u001b[1;32m    893\u001b[0m             \u001b[0;32mexcept\u001b[0m \u001b[0mKeyboardInterrupt\u001b[0m\u001b[0;34m:\u001b[0m\u001b[0;34m\u001b[0m\u001b[0;34m\u001b[0m\u001b[0m\n\u001b[1;32m    894\u001b[0m                 \u001b[0;31m# re-raise KeyboardInterrupt, to truncate traceback\u001b[0m\u001b[0;34m\u001b[0m\u001b[0;34m\u001b[0m\u001b[0m\n\u001b[0;32m--> 895\u001b[0;31m                 \u001b[0;32mraise\u001b[0m \u001b[0mKeyboardInterrupt\u001b[0m\u001b[0;34m(\u001b[0m\u001b[0;34m\"Interrupted by user\"\u001b[0m\u001b[0;34m)\u001b[0m \u001b[0;32mfrom\u001b[0m \u001b[0;32mNone\u001b[0m\u001b[0;34m\u001b[0m\u001b[0;34m\u001b[0m\u001b[0m\n\u001b[0m\u001b[1;32m    896\u001b[0m             \u001b[0;32mexcept\u001b[0m \u001b[0mException\u001b[0m \u001b[0;32mas\u001b[0m \u001b[0me\u001b[0m\u001b[0;34m:\u001b[0m\u001b[0;34m\u001b[0m\u001b[0;34m\u001b[0m\u001b[0m\n\u001b[1;32m    897\u001b[0m                 \u001b[0mself\u001b[0m\u001b[0;34m.\u001b[0m\u001b[0mlog\u001b[0m\u001b[0;34m.\u001b[0m\u001b[0mwarning\u001b[0m\u001b[0;34m(\u001b[0m\u001b[0;34m\"Invalid Message:\"\u001b[0m\u001b[0;34m,\u001b[0m \u001b[0mexc_info\u001b[0m\u001b[0;34m=\u001b[0m\u001b[0;32mTrue\u001b[0m\u001b[0;34m)\u001b[0m\u001b[0;34m\u001b[0m\u001b[0;34m\u001b[0m\u001b[0m\n",
            "\u001b[0;31mKeyboardInterrupt\u001b[0m: Interrupted by user"
          ]
        }
      ],
      "source": [
        "import random\n",
        "\n",
        "# generate random number between 1to100\n",
        "random_num = random.randint(1,100)\n",
        "# prompt user to guess number\n",
        "guess = int (input(\"guess number 1 to 100: \"))\n",
        "# check number too low or too high or correct\n",
        "\n",
        "while guess != random_num:\n",
        "  if guess < random_num:\n",
        "    print (\"too low\")\n",
        "  else:\n",
        "    print (\"too high\")\n",
        "  guess = int (input (\"guess again: \"))\n",
        "\n",
        "print (\"you win\")"
      ]
    },
    {
      "cell_type": "markdown",
      "metadata": {
        "id": "quONjesFOrOM"
      },
      "source": [
        "29.Write a program that generates a random number between 1 and 10 and then prompts the user to guess the number. The user has three attempts to guess the number. If the user guesses correctly within three attempts, print out \"You win!\", otherwise print out \"You lose!\".\n"
      ]
    },
    {
      "cell_type": "code",
      "execution_count": null,
      "metadata": {
        "colab": {
          "base_uri": "https://localhost:8080/"
        },
        "id": "28zcri0IOyaw",
        "outputId": "aa906cb4-f098-429b-e2b9-40d64e1732d1"
      },
      "outputs": [
        {
          "name": "stdout",
          "output_type": "stream",
          "text": [
            "guess number 1 to 10: 5\n",
            "too low\n",
            "guess number 1 to 10: 7\n",
            "too low\n",
            "guess number 1 to 10: 9\n",
            "too low\n",
            "you lose\n"
          ]
        }
      ],
      "source": [
        "import random\n",
        "\n",
        "# generate random number between 1to10\n",
        "random_num = random.randint(1,10)\n",
        "attampt = 3\n",
        "while attampt > 0:\n",
        "  guess =  int (input(\"guess number 1 to 10: \"))\n",
        "\n",
        "  if guess == random_num:\n",
        "    print (\"you win\")\n",
        "    break\n",
        "  elif guess < random_num:\n",
        "    print (\"too low\")\n",
        "\n",
        "  else:\n",
        "    print (\"too high\")\n",
        "\n",
        "  attampt-=1\n",
        "\n",
        "  # check if user use all attampt\n",
        "if attampt == 0:\n",
        "  print (\"you lose\")"
      ]
    },
    {
      "cell_type": "markdown",
      "metadata": {
        "id": "hnp0-AibQzzy"
      },
      "source": [
        "30.Write a program that prompts the user to enter their age and then prints out whether they are a child (age 0-12), a teenager (age 13-19), an adult (age 20-59), or a senior (age 60+)\n"
      ]
    },
    {
      "cell_type": "code",
      "execution_count": null,
      "metadata": {
        "colab": {
          "base_uri": "https://localhost:8080/"
        },
        "id": "7dPTzAioQGXw",
        "outputId": "f6957b53-6e45-4d15-fddb-04f722efe097"
      },
      "outputs": [
        {
          "name": "stdout",
          "output_type": "stream",
          "text": [
            "enter your age :  59\n",
            "You are an adult\n"
          ]
        }
      ],
      "source": [
        "age = int (input(\"enter your age :  \"))\n",
        "if age <=12:\n",
        "  print (\"you are a chile\")\n",
        "elif age <=19:\n",
        "  print (\"you are a teanager\")\n",
        "\n",
        "elif age <=59:\n",
        "  print (\"You are an adult\")\n",
        "\n",
        "else:\n",
        "    print(\"You are a senior\")"
      ]
    },
    {
      "cell_type": "markdown",
      "metadata": {
        "id": "J0jVLs27JMRT"
      },
      "source": [
        "31.Create a class called \"Person\" with properties for \"name\", \"age\", and \"gender\". Create an object of this class and print out its properties.\n"
      ]
    },
    {
      "cell_type": "code",
      "execution_count": null,
      "metadata": {
        "colab": {
          "base_uri": "https://localhost:8080/"
        },
        "id": "UVYXZUkOJaJM",
        "outputId": "094f27a3-2a91-44b9-b109-0b49524ffd6e"
      },
      "outputs": [
        {
          "name": "stdout",
          "output_type": "stream",
          "text": [
            "name:  Akash\n",
            "age:  35\n",
            "gender:  male\n"
          ]
        }
      ],
      "source": [
        "class person:\n",
        "  def __init__(self,name ,age,gender):\n",
        "    self.name = name\n",
        "    self.age = age\n",
        "    self.gender = gender\n",
        "\n",
        "\n",
        "\n",
        "# object create person class\n",
        "person_1 =person(\"Akash\",\"35\",\"male\")\n",
        "\n",
        "\n",
        "# print properties of the person\n",
        "print (\"name: \",person_1.name)\n",
        "print (\"age: \",person_1.age)\n",
        "print (\"gender: \",person_1.gender)\n",
        "\n"
      ]
    },
    {
      "cell_type": "markdown",
      "metadata": {
        "id": "lJjmF5DWLF94"
      },
      "source": [
        "32. Write a Python class called \"Rectangle\" with attributes for \"width\" and \"height\". Implement methods to calculate the area and perimeter of the rectangle. Create an instance of this class and use it to print out the rectangle's area and perimeter.\n"
      ]
    },
    {
      "cell_type": "code",
      "execution_count": null,
      "metadata": {
        "colab": {
          "base_uri": "https://localhost:8080/"
        },
        "id": "9O_oP3LuLS6X",
        "outputId": "9659eb2d-3910-4fd0-98c5-6b2347bbe660"
      },
      "outputs": [
        {
          "name": "stdout",
          "output_type": "stream",
          "text": [
            "area:  750\n",
            "perimeter:  110\n"
          ]
        }
      ],
      "source": [
        "class Rectangle:\n",
        "  def __init__(self,width,hight) :\n",
        "    self.width = width\n",
        "    self.hight = hight\n",
        "  # Method to calculate the area of the rectangle\n",
        "  def area(self):\n",
        "    return self.width*self.hight\n",
        "    # calculate perimeter of the rectangle\n",
        "  def perimeter(self):\n",
        "    return 2*(self.width+self.hight)\n",
        "\n",
        "# create object of the rectange class\n",
        "rectngl = Rectangle(25,30)\n",
        "\n",
        "print (\"area: \",rectngl.area())\n",
        "print (\"perimeter: \",rectngl.perimeter())"
      ]
    },
    {
      "cell_type": "markdown",
      "metadata": {
        "id": "MrkFQFaPNgrK"
      },
      "source": [
        "33. Write a Python class called \"BankAccount\" with attributes for \"balance\" and \"interest_rate\". Implement methods to deposit and withdraw money from the account, as well as to calculate the interest earned on the balance based on the interest rate. Create an instance of this class and use it to test out the implemented methods for deposit, withdrawal, and interest calculation.\n"
      ]
    },
    {
      "cell_type": "code",
      "execution_count": null,
      "metadata": {
        "colab": {
          "base_uri": "https://localhost:8080/"
        },
        "id": "xKFiwTS1PibQ",
        "outputId": "072bae2f-bfab-4680-8646-22a2f584b2c8"
      },
      "outputs": [
        {
          "name": "stdout",
          "output_type": "stream",
          "text": [
            "balance: 6000\n",
            "Interest_earned: 510.0\n"
          ]
        }
      ],
      "source": [
        "class bank_account:\n",
        "  # Constructor method to initialize the balance and interest_rate properties\n",
        "   def __init__(self,balance,interest_rate):\n",
        "     self.balance = balance\n",
        "     self.interest_rate = interest_rate\n",
        "\n",
        "  # deposite money into bank\n",
        "   def deposite(self,amount):\n",
        "     self.balance+= amount\n",
        "\n",
        "# withdraw money from bank\n",
        "   def withdraw(self,amount):\n",
        "    self.balance-= amount\n",
        "# calculate the interest earned on the balance\n",
        "   def calculate_interest(self):\n",
        "     return self.balance * self.interest_rate / 100\n",
        "\n",
        "# create object of the bank account\n",
        "account_1 = bank_account(10000,8.5)\n",
        "\n",
        "account_1.deposite(1000)\n",
        "account_1.withdraw(5000)\n",
        "interest_earned = account_1.calculate_interest()\n",
        "\n",
        "\n",
        "print (\"balance:\",account_1.balance)\n",
        "print(\"Interest_earned:\", interest_earned)\n"
      ]
    },
    {
      "cell_type": "markdown",
      "metadata": {
        "id": "YvmVXSFnWupK"
      },
      "source": [
        "34. Write a Python class called \"Animal\" with attributes for \"name\" and \"species\". Create a subclass of \"Animal\" called \"Dog\" with additional attributes for \"breed\" and \"owner\". Implement both classes with appropriate methods and constructors to initialise their properties. Create instances of both classes and use them to print out the various properties of the animals and dogs, such as their names, species, breeds, and owners."
      ]
    },
    {
      "cell_type": "code",
      "execution_count": null,
      "metadata": {
        "colab": {
          "base_uri": "https://localhost:8080/"
        },
        "id": "VG60fShmS9pO",
        "outputId": "af860acb-4be7-4320-b632-7f7add6430d5"
      },
      "outputs": [
        {
          "name": "stdout",
          "output_type": "stream",
          "text": [
            "Animal name: Tiger\n",
            "Animal species: Feline\n",
            "Dog name: Max\n",
            "Dog species: Canine\n",
            "Dog breed: Labrador Retriever\n",
            "Dog owner: John\n"
          ]
        }
      ],
      "source": [
        "# Define the Animal class\n",
        "class Animal:\n",
        "    # Constructor method to initialize the name and species properties\n",
        "    def __init__(self, name, species):\n",
        "        self.name = name\n",
        "        self.species = species\n",
        "\n",
        "# Define the Dog subclass, which inherits from Animal\n",
        "class Dog(Animal):\n",
        "    # Constructor method to initialize the breed and owner properties\n",
        "    def __init__(self, name, species, breed, owner):\n",
        "        # Call the parent class's constructor to initialize the name and species properties\n",
        "        super().__init__(name, species)\n",
        "        self.breed = breed\n",
        "        self.owner = owner\n",
        "\n",
        "# Create an object of the Animal class\n",
        "animal1 = Animal(\"Tiger\", \"Feline\")\n",
        "\n",
        "# Create an object of the Dog class\n",
        "dog1 = Dog(\"Max\", \"Canine\", \"Labrador Retriever\", \"John\")\n",
        "\n",
        "# Print out the properties of the animal1 object\n",
        "print(\"Animal name:\", animal1.name)\n",
        "print(\"Animal species:\", animal1.species)\n",
        "\n",
        "# Print out the properties of the dog1 object\n",
        "print(\"Dog name:\", dog1.name)\n",
        "print(\"Dog species:\", dog1.species)\n",
        "print(\"Dog breed:\", dog1.breed)\n",
        "print(\"Dog owner:\", dog1.owner)"
      ]
    },
    {
      "cell_type": "markdown",
      "metadata": {
        "id": "yOhDjZrJYO8e"
      },
      "source": [
        "35.Create a class called \"Car\" with properties for \"make\", \"model\", and \"year\". Create a subclass of \"Car\" called \"ElectricCar\" with additional properties for \"battery_size\" and \"range\". Create objects of both classes and print out their properties.\n"
      ]
    },
    {
      "cell_type": "code",
      "execution_count": null,
      "metadata": {
        "colab": {
          "base_uri": "https://localhost:8080/"
        },
        "id": "AigNU3mgYTxE",
        "outputId": "cfb2f526-caf9-4793-e3a6-777065e6ca3a"
      },
      "outputs": [
        {
          "name": "stdout",
          "output_type": "stream",
          "text": [
            "car make: kia\n",
            "car model: seltos\n",
            "car year: 2020\n",
            "electric car make: mahindra\n",
            "electric car model: xuv400\n",
            "electric car year: 2023\n",
            "electric car battery_size : 39\n",
            "electric car range: 250\n"
          ]
        }
      ],
      "source": [
        "class car:\n",
        "  # constructor method to initialize make model and year\n",
        "  def __init__(self,make,model,year):\n",
        "    self.make = make\n",
        "    self.model = model\n",
        "    self.year =year\n",
        "\n",
        "  # define the electric car subclass which inharit from car\n",
        "class electric_car(car):\n",
        "    def __init__(self,make,model,year,battery_size,range):\n",
        "      super().__init__(make,model,year)\n",
        "      self.battery_size = battery_size\n",
        "      self.range = range\n",
        "\n",
        "# create an object of car class\n",
        "car_1 = car (\"kia\",\"seltos\",2020)\n",
        "\n",
        "# create an object of the electric car\n",
        "elect_car_1 =  electric_car(\"mahindra\",\"xuv400\",2023,39,250)\n",
        "\n",
        "# print out object of the car_1\n",
        "print (\"car make:\",car_1.make)\n",
        "print (\"car model:\",car_1.model)\n",
        "print (\"car year:\",car_1.year)\n",
        "\n",
        "# print out oject of the electric car\n",
        "\n",
        "print (\"electric car make:\",elect_car_1.make)\n",
        "print (\"electric car model:\",elect_car_1.model)\n",
        "print (\"electric car year:\",elect_car_1.year)\n",
        "print (\"electric car battery_size :\",elect_car_1.battery_size)\n",
        "print (\"electric car range:\",elect_car_1.range)"
      ]
    },
    {
      "cell_type": "markdown",
      "metadata": {
        "id": "LsVAc7uUm1rO"
      },
      "source": [
        "36.Create a class called \"Student\" with properties for \"name\" and \"id\". Create a subclass of \"Student\" called \"GraduateStudent\" with additional properties for \"advisor\" and \"research_area\". Create objects of both classes and print out their properties.\n"
      ]
    },
    {
      "cell_type": "code",
      "execution_count": null,
      "metadata": {
        "colab": {
          "base_uri": "https://localhost:8080/"
        },
        "id": "049sW-eYm8Uq",
        "outputId": "9428f6d1-2995-488c-d086-7a8c71bebe47"
      },
      "outputs": [
        {
          "name": "stdout",
          "output_type": "stream",
          "text": [
            "student name: akash\n",
            "student id: 12345\n",
            "graduate student name:  shreyansh\n",
            "graduate student id:  4567\n",
            "graduate student advisor:  dr.shukla\n",
            "graduate student research area:  computer science\n"
          ]
        }
      ],
      "source": [
        "class student:\n",
        "  def __init__(self,name,id):\n",
        "    self.name = name\n",
        "    self.id = id\n",
        "# define the graduat student subclass ehich is inharit from student class\n",
        "class graduate_student(student):\n",
        "  def __init__(self, name, id, advisor, research_area):\n",
        "    super().__init__(name,id)\n",
        "    self.advisor = advisor\n",
        "    self.research_area = research_area\n",
        "\n",
        "# create an object of student class\n",
        "student_1 = student(\"akash\",12345)\n",
        "\n",
        "\n",
        "# create graduate student object\n",
        "graduate_student_1= graduate_student(\"shreyansh\",4567,\"dr.shukla\",\"computer science\")\n",
        "\n",
        "# print properties of student_1\n",
        "print (\"student name:\",student_1.name)\n",
        "print (\"student id:\",student_1.id)\n",
        "\n",
        "# pritn properties of the graduate student\n",
        "\n",
        "print (\"graduate student name: \",graduate_student_1.name)\n",
        "print (\"graduate student id: \",graduate_student_1.id)\n",
        "print (\"graduate student advisor: \",graduate_student_1.advisor)\n",
        "print (\"graduate student research area: \",graduate_student_1.research_area)\n",
        "\n",
        "\n",
        "\n",
        "\n"
      ]
    },
    {
      "cell_type": "markdown",
      "metadata": {
        "id": "8ViAwF_Vrxap"
      },
      "source": [
        "37. Create a class called \"Shape\" with methods to calculate the area and perimeter of the shape. Create subclasses of \"Shape\" for \"Rectangle\", \"Circle\", and \"Triangle\" with their own methods for calculating area and perimeter. Create objects of each class and print out their area and perimeter.\n"
      ]
    },
    {
      "cell_type": "code",
      "execution_count": null,
      "metadata": {
        "colab": {
          "base_uri": "https://localhost:8080/"
        },
        "id": "9NBZvBqI9veW",
        "outputId": "c4b957f8-08f0-4955-cd13-8574b4c339bf"
      },
      "outputs": [
        {
          "name": "stdout",
          "output_type": "stream",
          "text": [
            "ractangle area : 150\n",
            "ractangle perimeter : 50\n",
            "circle area : 78.53981633974483\n",
            "circle perimeter : 31.41592653589793\n",
            "triangle area : 72.61843774138907\n",
            "triangle perimeter : 45\n"
          ]
        }
      ],
      "source": [
        "import math\n",
        "\n",
        "class shap:\n",
        "  def calculate_area(self):\n",
        "    pass\n",
        "  def calculate_perimeter(self):\n",
        "    pass\n",
        "\n",
        "# define the ractangle class which inharit from shap\n",
        "class ractangle(shap):\n",
        "  def __init__(self,width,hight):\n",
        "    self.width = width\n",
        "    self.hight = hight\n",
        "\n",
        "  def calculate_area(self):\n",
        "    return self.width*self.hight\n",
        "\n",
        "  def calculate_perimeter(self):\n",
        "    return 2*(self.width+self.hight)\n",
        "\n",
        "# define the circle class which inharit from shap\n",
        "class circle(shap):\n",
        "  def __init__(self,radius):\n",
        "    self.radius = radius\n",
        "\n",
        "  def calculate_area(self):\n",
        "    return math.pi*self.radius**2\n",
        "\n",
        "  def calculate_perimeter(self):\n",
        "    return 2*math.pi*self.radius\n",
        "\n",
        "  # define the triangle class which inharit from shap\n",
        "class triangle(shap):\n",
        "    def __init__(self,a,b,c):\n",
        "      self.a = a\n",
        "      self.b = b\n",
        "      self.c = c\n",
        "\n",
        "    def calculate_area(self):\n",
        "      s = (self.a+self.b+self.c)/2\n",
        "      return math.sqrt(s*(s-self.a)*(s-self.b)*(s-self.c))\n",
        "\n",
        "    def calculate_perimeter(self):\n",
        "      return self.a+self.b+self.c\n",
        "\n",
        "  # create objects from each class\n",
        "\n",
        "ractangle = ractangle(10,15)\n",
        "\n",
        "print (\"ractangle area :\",ractangle.calculate_area())\n",
        "print (\"ractangle perimeter :\",ractangle.calculate_perimeter())\n",
        "\n",
        "circle = circle(5)\n",
        "print (\"circle area :\",circle.calculate_area())\n",
        "print (\"circle perimeter :\",circle.calculate_perimeter())\n",
        "\n",
        "triangle = triangle(10,15,20)\n",
        "print (\"triangle area :\",triangle.calculate_area())\n",
        "print (\"triangle perimeter :\",triangle.calculate_perimeter())\n",
        "\n",
        "\n"
      ]
    },
    {
      "cell_type": "markdown",
      "metadata": {
        "id": "ytonsY19R2aB"
      },
      "source": [
        "38.Create a class called \"Employee\" with properties for \"name\", \"id\", and \"salary\". Add methods to give the employee a raise and to calculate their annual salary. Create objects of this class and test out the methods.\n"
      ]
    },
    {
      "cell_type": "code",
      "execution_count": null,
      "metadata": {
        "colab": {
          "base_uri": "https://localhost:8080/"
        },
        "id": "txhZJJM9SCt_",
        "outputId": "81cea56b-071d-4566-9b90-d2f753c2111e"
      },
      "outputs": [
        {
          "name": "stdout",
          "output_type": "stream",
          "text": [
            "initial salary: 30000\n",
            "new salary: 31000\n",
            "anual salary: 372000\n"
          ]
        }
      ],
      "source": [
        "class employee:\n",
        "  def __init__(self,name,id,salary):\n",
        "    self.name = name\n",
        "    self.id = id\n",
        "    self.salary = salary\n",
        "\n",
        "  def give_raise(self,amount):\n",
        "    self.salary+= amount\n",
        "  def annual_salary(self):\n",
        "    return self.salary*12\n",
        "\n",
        "  # create employee object\n",
        "\n",
        "employee_1 = employee(\"akash\",12345,30000)\n",
        "\n",
        "# print initial salary\n",
        "print (\"initial salary:\",employee_1.salary)\n",
        "\n",
        "# give the raise of rs 1000\n",
        "\n",
        "employee_1.give_raise(1000)\n",
        "\n",
        "\n",
        "# print new salary\n",
        "print (\"new salary:\",employee_1.salary)\n",
        "\n",
        "# print anual salary\n",
        "print (\"anual salary:\",employee_1.annual_salary())\n"
      ]
    },
    {
      "cell_type": "markdown",
      "metadata": {
        "id": "iBeLSeEnWMmP"
      },
      "source": [
        "39.Create a class called \"Book\" with properties for \"title\", \"author\", and \"publisher\". Create a subclass of \"Book\" called \"Ebook\" with additional properties for \"file_format\" and \"file_size\". Create objects of both classes and print out their properties.\n"
      ]
    },
    {
      "cell_type": "code",
      "execution_count": null,
      "metadata": {
        "colab": {
          "base_uri": "https://localhost:8080/"
        },
        "id": "DjjPHPa7WojP",
        "outputId": "c0203898-56a1-47c3-901f-22b86e77a37e"
      },
      "outputs": [
        {
          "name": "stdout",
          "output_type": "stream",
          "text": [
            "book title : The Hunger Games\n",
            "book author : Suzanne Collins\n",
            "book publisher :  Scholastic Corporation\n",
            "ebook title : The god of small things\n",
            "ebook authoe : Arundhati Roy\n",
            "ebook publisher : randome house\n",
            "ebook file_format : pdf\n",
            "ebook file_size : 5mb\n"
          ]
        }
      ],
      "source": [
        "class book:\n",
        "  def __init__(self,title,author,publisher):\n",
        "    self.title = title\n",
        "    self.author = author\n",
        "    self.publisher = publisher\n",
        "\n",
        "class ebook(book):\n",
        "  def __init__(self,title,author,publisher,file_format,file_size):\n",
        "    super().__init__(title,author,publisher)\n",
        "    self.file_format = file_format\n",
        "    self.file_size = file_size\n",
        "\n",
        "# create object of book\n",
        "book_1 = book(\"The Hunger Games\",\"Suzanne Collins\",\"Scholastic Corporation\")\n",
        "\n",
        "# create object of ebook\n",
        "ebook_1 = ebook(\"The god of small things\",\"Arundhati Roy\",\"randome house\",\"pdf\",\"5mb\")\n",
        "\n",
        "# Print out the properties of book1\n",
        "print (\"book title :\",book_1.title)\n",
        "print (\"book author :\",book_1.author)\n",
        "print (\"book publisher : \",book_1.publisher)\n",
        "\n",
        "# pritn properties of ebook\n",
        "\n",
        "print (\"ebook title :\",ebook_1.title)\n",
        "print (\"ebook authoe :\",ebook_1.author)\n",
        "print (\"ebook publisher :\",ebook_1.publisher)\n",
        "print (\"ebook file_format :\",ebook_1.file_format)\n",
        "print (\"ebook file_size :\",ebook_1.file_size)\n",
        "\n",
        "\n"
      ]
    },
    {
      "cell_type": "markdown",
      "metadata": {
        "id": "ISaXbDPlcRPk"
      },
      "source": [
        "40.Create a class called \"Bank\" with properties for \"name\" and \"accounts\". Add methods to create new accounts, deposit and withdraw money from accounts, and to calculate the total balance of all accounts. Create an object of this class and test out the methods.\n"
      ]
    },
    {
      "cell_type": "code",
      "execution_count": null,
      "metadata": {
        "id": "cjnceTUQb1OP"
      },
      "outputs": [],
      "source": []
    },
    {
      "cell_type": "markdown",
      "metadata": {
        "id": "kNzMWfK9jZZy"
      },
      "source": [
        "41.Can you create a Python program that reads a text file and counts the number of words contained within it? The program should be designed to read the file and break it down into individual words, using spaces, punctuation marks, and other delimiters to separate the words. It should then count the number of words found in the file and display this count as output. The program should be flexible enough to work with different text files and should be able to handle a variety of formatting and punctuation styles."
      ]
    },
    {
      "cell_type": "code",
      "execution_count": null,
      "metadata": {
        "id": "tdIQAFcnxWnm"
      },
      "outputs": [],
      "source": [
        "with open (\"/oprators in python.txt.docx\",\"r\")as file:\n",
        "  # read file and split into words\n",
        "  words = file.read().split()\n",
        "# count words number\n",
        "num_words = len(words)\n",
        "\n",
        "print (\"number of words:\",num_words)"
      ]
    },
    {
      "cell_type": "markdown",
      "metadata": {
        "id": "ckKxQvVawjUu"
      },
      "source": [
        "42. Could you help me create a Python program that can find and display the longest word in a text file? The program should be able to read any text file and separate its contents into individual words, taking into account various delimiters like spaces, punctuation marks, and other characters. Then, it should compare the length of each word and determine which one is the longest, and finally, print that word as output. The program should be versatile enough to work with various text files and be able to handle different formatting styles and punctuation.\n"
      ]
    },
    {
      "cell_type": "code",
      "execution_count": null,
      "metadata": {
        "id": "ATQS1NvEwn0Q"
      },
      "outputs": [],
      "source": [
        "with open (\"filename.txt\",\"r\")as file:\n",
        "  text = file.read()\n",
        "  words = text.split()\n",
        "\n",
        "longest_word = max(words,key = len)\n",
        "print (\"longest word is :\",longest_word)"
      ]
    },
    {
      "cell_type": "markdown",
      "metadata": {
        "id": "_o5c4L77xERW"
      },
      "source": [
        "43.Write a Python program to read a text file and print out the most frequent word(s) in the file.\n"
      ]
    },
    {
      "cell_type": "code",
      "execution_count": null,
      "metadata": {
        "colab": {
          "base_uri": "https://localhost:8080/",
          "height": 211
        },
        "id": "-s0gYAxKxHfh",
        "outputId": "90d28eeb-c038-4e74-eafc-7bcabd6cff86"
      },
      "outputs": [
        {
          "ename": "FileNotFoundError",
          "evalue": "[Errno 2] No such file or directory: 'filename.txt'",
          "output_type": "error",
          "traceback": [
            "\u001b[0;31m---------------------------------------------------------------------------\u001b[0m",
            "\u001b[0;31mFileNotFoundError\u001b[0m                         Traceback (most recent call last)",
            "\u001b[0;32m<ipython-input-9-df560c225df1>\u001b[0m in \u001b[0;36m<cell line: 4>\u001b[0;34m()\u001b[0m\n\u001b[1;32m      2\u001b[0m \u001b[0;34m\u001b[0m\u001b[0m\n\u001b[1;32m      3\u001b[0m \u001b[0;31m# Open the file and read its contents\u001b[0m\u001b[0;34m\u001b[0m\u001b[0;34m\u001b[0m\u001b[0m\n\u001b[0;32m----> 4\u001b[0;31m \u001b[0;32mwith\u001b[0m \u001b[0mopen\u001b[0m\u001b[0;34m(\u001b[0m\u001b[0;34m'filename.txt'\u001b[0m\u001b[0;34m,\u001b[0m \u001b[0;34m'r'\u001b[0m\u001b[0;34m)\u001b[0m \u001b[0;32mas\u001b[0m \u001b[0mfile\u001b[0m\u001b[0;34m:\u001b[0m\u001b[0;34m\u001b[0m\u001b[0;34m\u001b[0m\u001b[0m\n\u001b[0m\u001b[1;32m      5\u001b[0m     \u001b[0mtext\u001b[0m \u001b[0;34m=\u001b[0m \u001b[0mfile\u001b[0m\u001b[0;34m.\u001b[0m\u001b[0mread\u001b[0m\u001b[0;34m(\u001b[0m\u001b[0;34m)\u001b[0m\u001b[0;34m\u001b[0m\u001b[0;34m\u001b[0m\u001b[0m\n\u001b[1;32m      6\u001b[0m \u001b[0;34m\u001b[0m\u001b[0m\n",
            "\u001b[0;31mFileNotFoundError\u001b[0m: [Errno 2] No such file or directory: 'filename.txt'"
          ]
        }
      ],
      "source": [
        "from collections import Counter\n",
        "\n",
        "# Open the file and read its contents\n",
        "with open('filename.txt', 'r') as file:\n",
        "    text = file.read()\n",
        "\n",
        "# Remove special characters and split the text into words\n",
        "words = text.lower().replace('\\n', ' ').split()\n",
        "\n",
        "# Count the frequency of each word using Counter from collections module\n",
        "word_count = Counter(words)\n",
        "\n",
        "# Find the most frequent word(s)\n",
        "most_common = word_count.most_common()\n",
        "\n",
        "# Get the count of the most frequent word(s)\n",
        "max_count = most_common[0][1]\n",
        "\n",
        "# Print out all the words that have the same maximum frequency\n",
        "print(\"Most frequent word(s):\")\n",
        "for word, count in most_common:\n",
        "    if count == max_count:\n",
        "        print(f\"{word}: {count} times\")\n",
        "    else:\n",
        "        break"
      ]
    },
    {
      "cell_type": "code",
      "execution_count": null,
      "metadata": {
        "colab": {
          "base_uri": "https://localhost:8080/",
          "height": 211
        },
        "id": "SRtFc3rxxn5V",
        "outputId": "16a64dfb-a045-41b4-e052-303dd6901947"
      },
      "outputs": [
        {
          "ename": "FileNotFoundError",
          "evalue": "[Errno 2] No such file or directory: 'file1.text'",
          "output_type": "error",
          "traceback": [
            "\u001b[0;31m---------------------------------------------------------------------------\u001b[0m",
            "\u001b[0;31mFileNotFoundError\u001b[0m                         Traceback (most recent call last)",
            "\u001b[0;32m<ipython-input-12-6c19c90d122a>\u001b[0m in \u001b[0;36m<cell line: 3>\u001b[0;34m()\u001b[0m\n\u001b[1;32m      1\u001b[0m \u001b[0;32mfrom\u001b[0m \u001b[0mcollections\u001b[0m \u001b[0;32mimport\u001b[0m \u001b[0mCounter\u001b[0m\u001b[0;34m\u001b[0m\u001b[0;34m\u001b[0m\u001b[0m\n\u001b[1;32m      2\u001b[0m \u001b[0;31m# open file and read contents\u001b[0m\u001b[0;34m\u001b[0m\u001b[0;34m\u001b[0m\u001b[0m\n\u001b[0;32m----> 3\u001b[0;31m \u001b[0;32mwith\u001b[0m \u001b[0mopen\u001b[0m \u001b[0;34m(\u001b[0m\u001b[0;34m\"file1.text\"\u001b[0m\u001b[0;34m,\u001b[0m\u001b[0;34m\"r\"\u001b[0m\u001b[0;34m)\u001b[0m\u001b[0;32mas\u001b[0m \u001b[0mfile\u001b[0m\u001b[0;34m:\u001b[0m\u001b[0;34m\u001b[0m\u001b[0;34m\u001b[0m\u001b[0m\n\u001b[0m\u001b[1;32m      4\u001b[0m   \u001b[0mtext\u001b[0m \u001b[0;34m=\u001b[0m \u001b[0mfile\u001b[0m\u001b[0;34m.\u001b[0m\u001b[0mread\u001b[0m\u001b[0;34m(\u001b[0m\u001b[0;34m)\u001b[0m\u001b[0;34m\u001b[0m\u001b[0;34m\u001b[0m\u001b[0m\n\u001b[1;32m      5\u001b[0m \u001b[0;31m# remove special caracters and split the text into words\u001b[0m\u001b[0;34m\u001b[0m\u001b[0;34m\u001b[0m\u001b[0m\n",
            "\u001b[0;31mFileNotFoundError\u001b[0m: [Errno 2] No such file or directory: 'file1.text'"
          ]
        }
      ],
      "source": [
        "from collections import Counter\n",
        "# open file and read contents\n",
        "with open (\"file1.text\",\"r\")as file:\n",
        "  text = file.read()\n",
        "# remove special caracters and split the text into words\n",
        "words = text.lower().replace(\"\\n\",'').split()\n",
        "\n",
        "# count frequency of each words\n",
        "\n",
        "word_count = Counter(words)\n",
        "\n",
        "# find the most frequent word\n",
        "most_common=word_count.most_common()\n",
        "\n",
        "# get the count of the most frequent word\n",
        "max_count = most_common[0][1]\n",
        "\n",
        "# Print all the words that have the same maximum frequency\n",
        "print(\"most frequent word:\")\n",
        "for word.count in most_common:\n",
        "  if count == max_count:\n",
        "    print(f\"{word}:{count} times\")\n",
        "\n",
        "\n",
        "  else:\n",
        "    break"
      ]
    },
    {
      "cell_type": "markdown",
      "metadata": {
        "id": "EpcP67ml4um_"
      },
      "source": [
        "44. How can you use Python to count the number of rows in a CSV file?\n"
      ]
    },
    {
      "cell_type": "code",
      "execution_count": null,
      "metadata": {
        "colab": {
          "base_uri": "https://localhost:8080/",
          "height": 211
        },
        "id": "40W-woPd3dtF",
        "outputId": "6902bc3a-30bf-431e-e7be-c261eddfe4d7"
      },
      "outputs": [
        {
          "ename": "NameError",
          "evalue": "name 'file1' is not defined",
          "output_type": "error",
          "traceback": [
            "\u001b[0;31m---------------------------------------------------------------------------\u001b[0m",
            "\u001b[0;31mNameError\u001b[0m                                 Traceback (most recent call last)",
            "\u001b[0;32m<ipython-input-13-cb189b00c9b8>\u001b[0m in \u001b[0;36m<cell line: 7>\u001b[0;34m()\u001b[0m\n\u001b[1;32m      5\u001b[0m \u001b[0;34m\u001b[0m\u001b[0m\n\u001b[1;32m      6\u001b[0m \u001b[0;34m\u001b[0m\u001b[0m\n\u001b[0;32m----> 7\u001b[0;31m \u001b[0;32mwith\u001b[0m \u001b[0mopen\u001b[0m\u001b[0;34m(\u001b[0m\u001b[0mfile1\u001b[0m\u001b[0;34m.\u001b[0m\u001b[0mcsv\u001b[0m\u001b[0;34m,\u001b[0m\u001b[0;34m'r'\u001b[0m\u001b[0;34m)\u001b[0m\u001b[0;32mas\u001b[0m \u001b[0mcsvfile\u001b[0m\u001b[0;34m:\u001b[0m\u001b[0;34m\u001b[0m\u001b[0;34m\u001b[0m\u001b[0m\n\u001b[0m\u001b[1;32m      8\u001b[0m   \u001b[0mreader\u001b[0m \u001b[0;34m=\u001b[0m \u001b[0mcsv\u001b[0m\u001b[0;34m.\u001b[0m\u001b[0mreader\u001b[0m\u001b[0;34m(\u001b[0m\u001b[0mcsvfile\u001b[0m\u001b[0;34m)\u001b[0m\u001b[0;34m\u001b[0m\u001b[0;34m\u001b[0m\u001b[0m\n\u001b[1;32m      9\u001b[0m   \u001b[0mrow_count\u001b[0m \u001b[0;34m=\u001b[0m \u001b[0msum\u001b[0m\u001b[0;34m(\u001b[0m\u001b[0;36m1\u001b[0m \u001b[0;32mfor\u001b[0m \u001b[0mrow\u001b[0m \u001b[0;32min\u001b[0m \u001b[0mreader\u001b[0m\u001b[0;34m)\u001b[0m\u001b[0;34m\u001b[0m\u001b[0;34m\u001b[0m\u001b[0m\n",
            "\u001b[0;31mNameError\u001b[0m: name 'file1' is not defined"
          ]
        }
      ],
      "source": [
        "import csv\n",
        "\n",
        "\n",
        "filename = \"file1.csv\"\n",
        "\n",
        "\n",
        "with open(file1.csv,'r')as csvfile:\n",
        "  reader = csv.reader(csvfile)\n",
        "  row_count = sum(1 for row in reader)\n",
        "\n",
        "print (f\"number of row in {filename} is {row_count}\")"
      ]
    },
    {
      "cell_type": "markdown",
      "metadata": {
        "id": "p5uEe7etR8Xm"
      },
      "source": [
        "45. How can you use Python to calculate the average of a specific column in a CSV file?\n"
      ]
    },
    {
      "cell_type": "code",
      "execution_count": null,
      "metadata": {
        "colab": {
          "base_uri": "https://localhost:8080/",
          "height": 211
        },
        "id": "ZHlxYKu4SF6u",
        "outputId": "db379d84-f99c-4a2d-c1f5-8eef6074e1ee"
      },
      "outputs": [
        {
          "ename": "FileNotFoundError",
          "evalue": "[Errno 2] No such file or directory: 'example.csv'",
          "output_type": "error",
          "traceback": [
            "\u001b[0;31m---------------------------------------------------------------------------\u001b[0m",
            "\u001b[0;31mFileNotFoundError\u001b[0m                         Traceback (most recent call last)",
            "\u001b[0;32m<ipython-input-1-a9fda66c2e25>\u001b[0m in \u001b[0;36m<cell line: 5>\u001b[0;34m()\u001b[0m\n\u001b[1;32m      3\u001b[0m \u001b[0mcolumn_index\u001b[0m \u001b[0;34m=\u001b[0m \u001b[0;36m2\u001b[0m\u001b[0;34m\u001b[0m\u001b[0;34m\u001b[0m\u001b[0m\n\u001b[1;32m      4\u001b[0m \u001b[0;34m\u001b[0m\u001b[0m\n\u001b[0;32m----> 5\u001b[0;31m \u001b[0;32mwith\u001b[0m \u001b[0mopen\u001b[0m \u001b[0;34m(\u001b[0m\u001b[0mfilename\u001b[0m\u001b[0;34m,\u001b[0m\u001b[0;34m'r'\u001b[0m\u001b[0;34m)\u001b[0m\u001b[0;32mas\u001b[0m \u001b[0mcsvfile\u001b[0m\u001b[0;34m:\u001b[0m\u001b[0;34m\u001b[0m\u001b[0;34m\u001b[0m\u001b[0m\n\u001b[0m\u001b[1;32m      6\u001b[0m   \u001b[0mreader\u001b[0m \u001b[0;34m=\u001b[0m \u001b[0mcsv\u001b[0m\u001b[0;34m.\u001b[0m\u001b[0mreader\u001b[0m\u001b[0;34m(\u001b[0m\u001b[0mcsvfile\u001b[0m\u001b[0;34m)\u001b[0m\u001b[0;34m\u001b[0m\u001b[0;34m\u001b[0m\u001b[0m\n\u001b[1;32m      7\u001b[0m   \u001b[0mnext\u001b[0m\u001b[0;34m(\u001b[0m\u001b[0mreader\u001b[0m\u001b[0;34m)\u001b[0m\u001b[0;34m\u001b[0m\u001b[0;34m\u001b[0m\u001b[0m\n",
            "\u001b[0;31mFileNotFoundError\u001b[0m: [Errno 2] No such file or directory: 'example.csv'"
          ]
        }
      ],
      "source": [
        "import csv\n",
        "filename = \"example.csv\"\n",
        "column_index = 2\n",
        "\n",
        "with open (filename,'r')as csvfile:\n",
        "  reader = csv.reader(csvfile)\n",
        "  next(reader)\n",
        "  values = [floor(row[column_index])for row in reader]\n",
        "\n",
        "average = sum(values)/len(values)\n",
        "print (f\"the average of column {column_index} in {filename} is {average}\")"
      ]
    },
    {
      "cell_type": "markdown",
      "metadata": {
        "id": "iGlnjaQJTzIy"
      },
      "source": [
        "46.Write a Python program to read a JSON file and print out the value of a specified key.\n"
      ]
    },
    {
      "cell_type": "code",
      "execution_count": null,
      "metadata": {
        "colab": {
          "base_uri": "https://localhost:8080/",
          "height": 211
        },
        "id": "xct0MHhuT41i",
        "outputId": "f7b2b425-078a-496a-8f26-0b14946d454e"
      },
      "outputs": [
        {
          "ename": "FileNotFoundError",
          "evalue": "[Errno 2] No such file or directory: 'example.json'",
          "output_type": "error",
          "traceback": [
            "\u001b[0;31m---------------------------------------------------------------------------\u001b[0m",
            "\u001b[0;31mFileNotFoundError\u001b[0m                         Traceback (most recent call last)",
            "\u001b[0;32m<ipython-input-2-918991faf0c3>\u001b[0m in \u001b[0;36m<cell line: 5>\u001b[0;34m()\u001b[0m\n\u001b[1;32m      3\u001b[0m \u001b[0mkey\u001b[0m \u001b[0;34m=\u001b[0m \u001b[0;34m\"name\"\u001b[0m\u001b[0;34m\u001b[0m\u001b[0;34m\u001b[0m\u001b[0m\n\u001b[1;32m      4\u001b[0m \u001b[0;34m\u001b[0m\u001b[0m\n\u001b[0;32m----> 5\u001b[0;31m \u001b[0;32mwith\u001b[0m \u001b[0mopen\u001b[0m \u001b[0;34m(\u001b[0m\u001b[0mfilename\u001b[0m\u001b[0;34m,\u001b[0m\u001b[0;34m'r'\u001b[0m\u001b[0;34m)\u001b[0m\u001b[0;32mas\u001b[0m \u001b[0mjsonfile\u001b[0m\u001b[0;34m:\u001b[0m\u001b[0;34m\u001b[0m\u001b[0;34m\u001b[0m\u001b[0m\n\u001b[0m\u001b[1;32m      6\u001b[0m   \u001b[0mdata\u001b[0m \u001b[0;34m=\u001b[0m \u001b[0mjson\u001b[0m\u001b[0;34m.\u001b[0m\u001b[0mload\u001b[0m\u001b[0;34m(\u001b[0m\u001b[0mjsonfile\u001b[0m\u001b[0;34m)\u001b[0m\u001b[0;34m\u001b[0m\u001b[0;34m\u001b[0m\u001b[0m\n\u001b[1;32m      7\u001b[0m \u001b[0;34m\u001b[0m\u001b[0m\n",
            "\u001b[0;31mFileNotFoundError\u001b[0m: [Errno 2] No such file or directory: 'example.json'"
          ]
        }
      ],
      "source": [
        "import json\n",
        "filename = \"example.json\"\n",
        "key = \"name\"\n",
        "\n",
        "with open (filename,'r')as jsonfile:\n",
        "  data = json.load(jsonfile)\n",
        "\n",
        "value = data[key]\n",
        "print (f\"the value of key {key} in {filename} is {value}\")"
      ]
    },
    {
      "cell_type": "markdown",
      "metadata": {
        "id": "WGiyVt7-UfoB"
      },
      "source": [
        "47. Can you provide a Python code snippet to write a list of strings into a text file where each string is written on a new line?\n"
      ]
    },
    {
      "cell_type": "code",
      "execution_count": null,
      "metadata": {
        "id": "EeD1K-beUaY1"
      },
      "outputs": [],
      "source": [
        "strings = [\"how\",\"are\",\"you\"]\n",
        "filename =\"example.txt\"\n",
        "\n",
        "with open (filename,'w')as textfile:\n",
        "  for  s in strings:\n",
        "    textfile.write(s+\"\\n\")"
      ]
    },
    {
      "cell_type": "markdown",
      "metadata": {
        "id": "IDDCi03OVMWx"
      },
      "source": [
        "48. Can you provide a Python code to read a binary file and display the data in hexadecimal format.\n"
      ]
    },
    {
      "cell_type": "code",
      "execution_count": null,
      "metadata": {
        "id": "SX9NKCi7VP2o"
      },
      "outputs": [],
      "source": [
        "filename = \"example.bin\"\n",
        "\n",
        "with open (filename,'rb')as binaryfile:\n",
        "  binary_data = binaryfile.read()\n",
        "  hex_data = binascii.hexlify(binary_data).decode()\n",
        "\n",
        "print (f\"the hexadecimal represantation of the binary data in {filename} is :\\n{hex_data}\")"
      ]
    },
    {
      "cell_type": "markdown",
      "metadata": {
        "id": "WQW51UO_V66G"
      },
      "source": [
        "49. Can you write a Python code to read a Comma-Separated Values (CSV) file, apply a specific condition to each row, and create a new CSV file that contains only the rows that satisfy the condition? For example, if the CSV file contains information about products and their prices, you may want to create a new CSV file that only includes the products that are within a certain price range. The program should be able to read the CSV file, compare the values in each row to the specified condition, and write the rows that meet the criteria to a new CSV file.\n"
      ]
    },
    {
      "cell_type": "code",
      "execution_count": null,
      "metadata": {
        "id": "fiTd3AAWV-03"
      },
      "outputs": [],
      "source": [
        "import csv\n",
        "\n",
        "input_filename = \"input.csv\"\n",
        "output_filename = \"output.csv\"\n",
        "condition_column_index = 1\n",
        "condition_value = \"true\"\n",
        "\n",
        "with open(input_filename,'r')as input_file, open(output_filename,'w',newline='') as output_file:\n",
        "  reader = csv.reader(input_file)\n",
        "  writer = csv.writer(output_file)\n",
        "\n",
        "  for row in reader:\n",
        "    if row[condition_column_index] == condition_value:\n",
        "      writer.writerow(row)"
      ]
    },
    {
      "cell_type": "markdown",
      "metadata": {
        "id": "beA1hW0aW8Yk"
      },
      "source": [
        "50.Write a Python program to read a text file, count the frequency of each word, and write the results to a new text file.\n"
      ]
    },
    {
      "cell_type": "code",
      "execution_count": null,
      "metadata": {
        "id": "CB3JVgLrXEfL"
      },
      "outputs": [],
      "source": [
        "input filename = \"input.txt\"\n",
        "output filename = \"output.txt\"\n",
        "\n",
        "def count_word_frequency(word):\n",
        "  frequency = {}\n",
        "  for word in words:\n",
        "    if word in frequency:\n",
        "      frequency[word]+=1\n",
        "    else:\n",
        "      frequency[word]=1\n",
        "  return frequency\n",
        "\n",
        "\n",
        " # Read the input text file and count the frequency of each word\n",
        " with open(input_filename,'r')   as input_file:\n",
        "   text = input_file.read()\n",
        "   words = text.split()\n",
        "   word_frequency = count_word_frequency(words)\n",
        "  # Write the word frequency data to the output text file\n",
        "\n",
        "with open(output_filename,'w') as output_file:\n",
        "  for word.count in word_frequency.items():\n",
        "    output_file.write(f\"{word}:{count}\\n\")"
      ]
    },
    {
      "cell_type": "markdown",
      "metadata": {
        "id": "r_ZVRUkoJ7Gc"
      },
      "source": [
        "51.Write a program that prints the first 10 even numbers using a for loop.\n"
      ]
    },
    {
      "cell_type": "code",
      "execution_count": null,
      "metadata": {
        "colab": {
          "base_uri": "https://localhost:8080/"
        },
        "id": "5ASSHDgAKd0P",
        "outputId": "02cbf5b7-49d8-4a55-a34c-5469f347cc2e"
      },
      "outputs": [
        {
          "name": "stdout",
          "output_type": "stream",
          "text": [
            "2\n",
            "4\n",
            "6\n",
            "8\n",
            "10\n",
            "12\n",
            "14\n",
            "16\n",
            "18\n",
            "20\n"
          ]
        }
      ],
      "source": [
        "for i in range(2,21,2):\n",
        "  print (i)\n"
      ]
    },
    {
      "cell_type": "markdown",
      "metadata": {
        "id": "4Y3ESTIiK9o9"
      },
      "source": [
        "52.Write a program that takes a list of strings and prints out each string in reverse order using a for loop.\n"
      ]
    },
    {
      "cell_type": "code",
      "execution_count": null,
      "metadata": {
        "colab": {
          "base_uri": "https://localhost:8080/"
        },
        "id": "KXckySulKsT7",
        "outputId": "389158dc-09cb-42fd-c499-9eef823cdde7"
      },
      "outputs": [
        {
          "name": "stdout",
          "output_type": "stream",
          "text": [
            "atad\n",
            "ecneics\n",
            "sretsam\n",
            "0.2\n"
          ]
        }
      ],
      "source": [
        "mylist = [\"data\",\"science\",\"masters\",\"2.0\"]\n",
        "\n",
        "for i in mylist:\n",
        "  print(i[::-1])\n"
      ]
    },
    {
      "cell_type": "markdown",
      "metadata": {
        "id": "CY4JU6BKLzzZ"
      },
      "source": [
        "53.Write a program that prints the multiplication table of a given number using a for loop.\n"
      ]
    },
    {
      "cell_type": "code",
      "execution_count": null,
      "metadata": {
        "colab": {
          "base_uri": "https://localhost:8080/"
        },
        "id": "WmqXvEzULrx2",
        "outputId": "b8293b85-3094-47ba-b38a-74cf1efeba6a"
      },
      "outputs": [
        {
          "name": "stdout",
          "output_type": "stream",
          "text": [
            "enter number : 7\n",
            "7 x 1 = 7\n",
            "7 x 2 = 14\n",
            "7 x 3 = 21\n",
            "7 x 4 = 28\n",
            "7 x 5 = 35\n",
            "7 x 6 = 42\n",
            "7 x 7 = 49\n",
            "7 x 8 = 56\n",
            "7 x 9 = 63\n",
            "7 x 10 = 70\n"
          ]
        }
      ],
      "source": [
        "# take input from user\n",
        "num = int (input(\"enter number : \"))\n",
        "\n",
        "for i in range(1,11):\n",
        "  mat_num = num * i\n",
        "\n",
        "  print (num,\"x\",i,\"=\",mat_num)"
      ]
    },
    {
      "cell_type": "markdown",
      "metadata": {
        "id": "Y-4z36ywMr4S"
      },
      "source": [
        "54.Write a program that takes a list of integers as input and returns the sum of all the numbers in the list using a for loop.\n"
      ]
    },
    {
      "cell_type": "code",
      "execution_count": null,
      "metadata": {
        "colab": {
          "base_uri": "https://localhost:8080/"
        },
        "id": "5laGfud2Mnc8",
        "outputId": "c0f4b50e-0f33-485e-88df-cd0c09019087"
      },
      "outputs": [
        {
          "name": "stdout",
          "output_type": "stream",
          "text": [
            "45\n"
          ]
        }
      ],
      "source": [
        "def sum_list(numbers):\n",
        "  total = 0\n",
        "  for num in numbers:\n",
        "    total+=num\n",
        "  return total\n",
        "\n",
        "my_list = [1,2,3,4,5,6,7,8,9]\n",
        "print (sum_list(my_list))\n"
      ]
    },
    {
      "cell_type": "markdown",
      "metadata": {
        "id": "k9bJHn6pNVmn"
      },
      "source": [
        "55.Write a program that prompts the user for a positive integer and then prints out all the prime numbers up to that number using a for loop.\n"
      ]
    },
    {
      "cell_type": "code",
      "execution_count": null,
      "metadata": {
        "colab": {
          "base_uri": "https://localhost:8080/"
        },
        "id": "-BUInZqyPA1d",
        "outputId": "12aeb789-e1f2-42fe-8a6b-4c40a0d03fa3"
      },
      "outputs": [
        {
          "name": "stdout",
          "output_type": "stream",
          "text": [
            "enter a positive integer : 23\n",
            "5\n",
            "7\n",
            "9\n",
            "11\n",
            "13\n",
            "15\n",
            "17\n",
            "19\n",
            "21\n",
            "23\n"
          ]
        }
      ],
      "source": [
        "def is_prime(n):\n",
        "  if n<=1:\n",
        "    return False\n",
        "  for i in range(2,int(n**0.5)+1):\n",
        "    if n%i==0:\n",
        "      return False\n",
        "    return True\n",
        "\n",
        "n = int(input (\"enter a positive integer : \" ))\n",
        "\n",
        "# loop thrugh all number up to n and print prime number\n",
        "\n",
        "for i in range (2,n+1):\n",
        "  if is_prime (i):\n",
        "    print (i)"
      ]
    },
    {
      "cell_type": "markdown",
      "metadata": {
        "id": "eNNixdbYQC77"
      },
      "source": [
        "56.Write a program that prompts the user to enter a password until the correct password is entered using a while loop.\n"
      ]
    },
    {
      "cell_type": "code",
      "execution_count": null,
      "metadata": {
        "colab": {
          "base_uri": "https://localhost:8080/"
        },
        "id": "_ImblpmDRMuK",
        "outputId": "85e5afdb-3ab6-424a-985d-16f17a69d1ae"
      },
      "outputs": [
        {
          "name": "stdout",
          "output_type": "stream",
          "text": [
            "enter password : password456\n",
            "correct password\n"
          ]
        }
      ],
      "source": [
        "# define the correct password\n",
        "password = \"password456\"\n",
        "\n",
        "user_input = input(\"enter password : \")\n",
        "\n",
        "while user_input != password:\n",
        "  print (\"incorrect password!\")\n",
        "  user_input =  input(\"enter password : \")\n",
        "\n",
        "print (\"correct password\")"
      ]
    },
    {
      "cell_type": "markdown",
      "metadata": {
        "id": "QB8s02pJSMwZ"
      },
      "source": [
        "57.Write a program that takes a list of strings and prints out each string in reverse order using a while loop.\n"
      ]
    },
    {
      "cell_type": "code",
      "execution_count": null,
      "metadata": {
        "colab": {
          "base_uri": "https://localhost:8080/"
        },
        "id": "igUouL-QSyeg",
        "outputId": "2d2da76c-27d9-4ebb-bf8c-e0a8096ab0c5"
      },
      "outputs": [
        {
          "name": "stdout",
          "output_type": "stream",
          "text": [
            "a\n",
            "t\n",
            "a\n",
            "d\n",
            "e\n",
            "c\n",
            "n\n",
            "e\n",
            "i\n",
            "c\n",
            "s\n",
            "s\n",
            "r\n",
            "e\n",
            "t\n",
            "s\n",
            "a\n",
            "m\n",
            "0\n",
            ".\n",
            "2\n"
          ]
        }
      ],
      "source": [
        "mylist = [\"data\",\"science\",\"masters\",\"2.0\"]\n",
        "\n",
        "for string in mylist:\n",
        "  index = len(string)-1\n",
        "  while index >= 0:\n",
        "    print (string[index],end = \"\")\n",
        "    index -= 1\n",
        "    print ()"
      ]
    },
    {
      "cell_type": "markdown",
      "metadata": {
        "id": "FUnTTMsRTdbX"
      },
      "source": [
        "58.Write a program that prompts the user to enter a positive integer and then prints out all the Fibonacci numbers up to that number using a while loop.\n"
      ]
    },
    {
      "cell_type": "code",
      "execution_count": null,
      "metadata": {
        "id": "K-ftvfZ2TWhR"
      },
      "outputs": [],
      "source": [
        "# Prompt user for input\n",
        "n = int(input(\"Enter a positive integer: \"))\n",
        "\n",
        "# Initialize variables for the first two Fibonacci numbers\n",
        "fib1 = 0\n",
        "fib2 = 1\n",
        "\n",
        "# Print the first Fibonacci number (0)\n",
        "print(fib1)\n",
        "\n",
        "# Print the second Fibonacci number (1)\n",
        "print(fib2)\n",
        "\n",
        "# Loop through all remaining Fibonacci numbers up to n\n",
        "while fib2 <= n:\n",
        "    # Compute the next Fibonacci number and print it\n",
        "    fib3 = fib1 + fib2\n",
        "    print(fib3)\n",
        "\n",
        "    # Update variables for the next iteration\n",
        "    fib1 = fib2\n",
        "    fib2 = fib3"
      ]
    },
    {
      "cell_type": "code",
      "execution_count": null,
      "metadata": {
        "colab": {
          "base_uri": "https://localhost:8080/"
        },
        "id": "c0mMnL_bBNrW",
        "outputId": "115c157c-02b2-4568-ca8a-bf1b400a4017"
      },
      "outputs": [
        {
          "name": "stdout",
          "output_type": "stream",
          "text": [
            "enter a positive integer : 7\n",
            "0\n",
            "1\n",
            "1\n",
            "2\n",
            "3\n",
            "5\n",
            "8\n"
          ]
        }
      ],
      "source": [
        "n = int(input(\"enter a positive integer : \"))\n",
        "# initialize variable for the first two fibonachinumber\n",
        "fib1 = 0\n",
        "fib2 = 1\n",
        "\n",
        "# print the first fibonachi number(0)\n",
        "print (fib1)\n",
        "\n",
        "# print the second fibonachi number(1)\n",
        "print (fib2)\n",
        "\n",
        "# loop through all fibonachinumber upto n\n",
        "\n",
        "while fib2<=n:\n",
        "\n",
        "  fib3 = fib1 + fib2\n",
        "  print (fib3)\n",
        "\n",
        "  fib1=fib2\n",
        "  fib2=fib3"
      ]
    },
    {
      "cell_type": "markdown",
      "metadata": {
        "id": "fCw1cX_kEnkj"
      },
      "source": [
        "59.Write a program that takes a list of integers as input and returns the product of all the numbers in the list using a while loop.\n"
      ]
    },
    {
      "cell_type": "code",
      "execution_count": null,
      "metadata": {
        "colab": {
          "base_uri": "https://localhost:8080/"
        },
        "id": "XZePC4RaFQol",
        "outputId": "640da8ff-1605-4dc5-ef82-c444385ca0e4"
      },
      "outputs": [
        {
          "name": "stdout",
          "output_type": "stream",
          "text": [
            "645120\n"
          ]
        }
      ],
      "source": [
        "list1 = [2,4,6,8,10,12,14]\n",
        "# initialize the product variable to 1\n",
        "product  = 1\n",
        "\n",
        "# loop through each integer in the list and multiply it with the product variable\n",
        "index = 0\n",
        "while index < len(list1):\n",
        "  product *= list1[index]\n",
        "  index += 1\n",
        "\n",
        "print (product)"
      ]
    },
    {
      "cell_type": "markdown",
      "metadata": {
        "id": "TWCNhw_UGT5G"
      },
      "source": [
        "60.Write a program that prompts the user to enter a positive integer and then prints out the factorial of that number using a while loop.\n"
      ]
    },
    {
      "cell_type": "code",
      "execution_count": null,
      "metadata": {
        "colab": {
          "base_uri": "https://localhost:8080/"
        },
        "id": "Qxy5_Xt8G44L",
        "outputId": "8e8e9316-8418-426d-fbc2-9fcabe8bc058"
      },
      "outputs": [
        {
          "name": "stdout",
          "output_type": "stream",
          "text": [
            "enter a positive integer : 30\n",
            "265252859812191058636308480000000\n"
          ]
        }
      ],
      "source": [
        "n = int(input(\"enter a positive integer : \"))\n",
        "\n",
        "# initialize the factorial variable to 1\n",
        "factorial = 1\n",
        "\n",
        "# loop through all integers from 1 to n\n",
        "i =1\n",
        "while i <=n:\n",
        "  factorial *= i\n",
        "\n",
        "  i+=1\n",
        "\n",
        "print (factorial)\n"
      ]
    },
    {
      "cell_type": "markdown",
      "metadata": {
        "id": "efSw3oRKHwgp"
      },
      "source": [
        "61.Write a program that spawns two threads. One thread should print even numbers between 0 and 10, and the other thread should print odd numbers between 1 and 9."
      ]
    },
    {
      "cell_type": "code",
      "execution_count": null,
      "metadata": {
        "colab": {
          "base_uri": "https://localhost:8080/"
        },
        "id": "TWH3WlnnIb8_",
        "outputId": "6cc831e6-253d-4d77-a67c-0348a62b42d4"
      },
      "outputs": [
        {
          "name": "stdout",
          "output_type": "stream",
          "text": [
            "0\n",
            "2\n",
            "4\n",
            "6\n",
            "8\n",
            "10\n",
            "12\n",
            "14\n",
            "1\n",
            "3\n",
            "5\n",
            "7\n",
            "9\n",
            "11\n",
            "13\n",
            "15\n",
            "17\n"
          ]
        }
      ],
      "source": [
        "import threading\n",
        "\n",
        "def print_even():\n",
        "  for i in range (0,15,2):\n",
        "    print (i)\n",
        "def print_odd():\n",
        "  for i in range (1,18,2):\n",
        "    print (i)\n",
        "# thread create\n",
        "thr1 = threading.Thread(target = print_even)\n",
        "thr2 = threading.Thread(target = print_odd)\n",
        "\n",
        "# start thread\n",
        "thr1.start()\n",
        "thr2.start()\n",
        "\n",
        "# wait for finish\n",
        "\n",
        "thr1.join()\n",
        "thr2.join()\n"
      ]
    },
    {
      "cell_type": "markdown",
      "metadata": {
        "id": "X2jRgwu6Jv7t"
      },
      "source": [
        "62.Write a program that generates a list of random numbers and sorts them using multithreading. Use two threads to sort the first half and the second half of the list in parallel."
      ]
    },
    {
      "cell_type": "code",
      "execution_count": null,
      "metadata": {
        "colab": {
          "base_uri": "https://localhost:8080/"
        },
        "id": "uWxiBw2WJdcA",
        "outputId": "83e6265b-cec7-4653-c995-1a594f640873"
      },
      "outputs": [
        {
          "name": "stdout",
          "output_type": "stream",
          "text": [
            "original list : [13, 10, 88, 75, 91, 38, 14, 38, 40, 56]\n",
            "sorted list: [10, 13, 14, 38, 38, 40, 56, 75, 88, 91]\n"
          ]
        }
      ],
      "source": [
        "import threading\n",
        "import random\n",
        "\n",
        "# generate a list of random numbers\n",
        "mylist = [random.randint(1,100) for _ in range(10)]\n",
        "print (\"original list :\",mylist)\n",
        "\n",
        "# definr the function to sort the list\n",
        "def sortlist (start,end):\n",
        "  mylist[start:end]=sorted(mylist[start:end])\n",
        "\n",
        "# create thread for sorting\n",
        "t1=threading.Thread(target = sortlist,args = (0,len(mylist)//2))\n",
        "t2 = threading.Thread(target = sortlist,args = (len(mylist)//2,len(mylist)))\n",
        "\n",
        "# start the thread\n",
        "t1.start()\n",
        "t2.start()\n",
        "\n",
        "# wait thread to finish\n",
        "t1.join()\n",
        "t2.join()\n",
        "\n",
        "sorted_list = sorted(mylist)\n",
        "\n",
        "print (\"sorted list:\",sorted_list)\n",
        "\n",
        "\n",
        "\n"
      ]
    },
    {
      "cell_type": "markdown",
      "metadata": {
        "id": "7Tv0CTDKMbFj"
      },
      "source": [
        "63.Write a program that simulates a bank account transaction. The program should create two threads, one for a deposit and one for a withdrawal. The deposit thread should add $100 to the account, and the withdrawal thread should withdraw $50 from the account. Run the program for 10 iterations.\n"
      ]
    },
    {
      "cell_type": "code",
      "execution_count": null,
      "metadata": {
        "colab": {
          "base_uri": "https://localhost:8080/"
        },
        "id": "uxsCU7kTMX_w",
        "outputId": "e519052f-7a98-4126-9b53-f5ee35111fde"
      },
      "outputs": [
        {
          "name": "stdout",
          "output_type": "stream",
          "text": [
            "deposite 100rs, balance is now rs100\n",
            "deposite 100rs, balance is now rs200\n",
            "deposite 100rs, balance is now rs300\n",
            "deposite 100rs, balance is now rs400\n",
            "deposite 100rs, balance is now rs500\n",
            "deposite 100rs, balance is now rs600\n",
            "deposite 100rs, balance is now rs700\n",
            "deposite 100rs, balance is now rs800\n",
            "deposite 100rs, balance is now rs900\n",
            "deposite 100rs, balance is now rs1000\n",
            "withdrawn 50rs,balance is now rs950\n"
          ]
        }
      ],
      "source": [
        "import threading\n",
        "\n",
        "\n",
        "balance = 0\n",
        "lock =threading.Lock()\n",
        "\n",
        "def deposite():\n",
        "  global balance\n",
        "  for i in range(10):\n",
        "    lock.acquire()\n",
        "    balance +=100\n",
        "    print (\"deposite 100rs, balance is now rs\" + str(balance))\n",
        "    lock.release()\n",
        "\n",
        "def withdraw():\n",
        "  global balance\n",
        "  for i in range (10):\n",
        "    lock.acquire ()\n",
        "    balance -=50\n",
        "    print (\"withdrawn 50rs,balance is now rs\"+ str(balance))\n",
        "\n",
        "\n",
        "deposite_thread = threading.Thread(target = deposite)\n",
        "withdraw_thread = threading.Thread(target = withdraw)\n",
        "\n",
        "deposite_thread.start()\n",
        "withdraw_thread.start()\n",
        "\n",
        "deposite_thread.join()\n",
        "withdraw_thread.join()\n",
        "\n"
      ]
    },
    {
      "cell_type": "markdown",
      "metadata": {
        "id": "KGuW139qPHss"
      },
      "source": [
        "64.Write a Python program that creates a thread to print out the current date and time every 5 seconds. The program should continue running until the user presses the 'q' key."
      ]
    },
    {
      "cell_type": "code",
      "execution_count": null,
      "metadata": {
        "id": "ZHeYv2OdPLI6"
      },
      "outputs": [],
      "source": [
        "import threading\n",
        "import time\n",
        "\n",
        "def print_time():\n",
        "  while True:\n",
        "    print (time.starttime(\"%Y-%M-%D %H:%M:%S\",time.localtime()))\n",
        "    time.sleep(5)\n",
        "t = threading.Thread(target = print_time)\n",
        "t.start()\n",
        "\n",
        "while True:\n",
        "  if input()== 'q':\n",
        "    break"
      ]
    },
    {
      "cell_type": "markdown",
      "metadata": {
        "id": "_ElaLu9ERapF"
      },
      "source": [
        "65.Write a Python program that creates two threads. Each thread should print out the numbers from 1 to 10. The two threads should run concurrently and print out the numbers in an interleaved fashion."
      ]
    },
    {
      "cell_type": "code",
      "execution_count": null,
      "metadata": {
        "colab": {
          "base_uri": "https://localhost:8080/"
        },
        "id": "d_N1396eQooT",
        "outputId": "b9e2063b-d78e-4854-9cbb-0ad04f793934"
      },
      "outputs": [
        {
          "name": "stdout",
          "output_type": "stream",
          "text": [
            "1\n",
            "2\n",
            "3\n",
            "4\n",
            "5\n",
            "6\n",
            "7\n",
            "8\n",
            "9\n",
            "10\n",
            "1\n",
            "2\n",
            "3\n",
            "4\n",
            "5\n",
            "6\n",
            "7\n",
            "8\n",
            "9\n",
            "10\n"
          ]
        }
      ],
      "source": [
        "import threading\n",
        "\n",
        "def  print_numbers(start,end):\n",
        "  for i in range (start,end+1):\n",
        "    print (i)\n",
        "# create two thread\n",
        "thread1 = threading.Thread(target = print_numbers,args =(1,10))\n",
        "thread2 = threading.Thread(target = print_numbers,args =(1,10))\n",
        "\n",
        "\n",
        "thread1.start()\n",
        "thread2.start()\n",
        "\n",
        "thread1.join()\n",
        "thread2.join()\n",
        "\n"
      ]
    },
    {
      "cell_type": "markdown",
      "metadata": {
        "id": "eCMnvAHcVXd1"
      },
      "source": [
        "66.Write a Python program to create a shared variable between two threads and increment its value in each thread."
      ]
    },
    {
      "cell_type": "code",
      "execution_count": null,
      "metadata": {
        "colab": {
          "base_uri": "https://localhost:8080/"
        },
        "id": "BfaxcKyvTG99",
        "outputId": "1b728af1-649c-4100-8de9-0d095f0b84ee"
      },
      "outputs": [
        {
          "name": "stdout",
          "output_type": "stream",
          "text": [
            "shared variable value  2\n"
          ]
        }
      ],
      "source": [
        "import threading\n",
        "\n",
        "shared_variable = 0\n",
        "lock = threading.Lock()\n",
        "\n",
        "def increment_variable():\n",
        "  global shared_variable\n",
        "  lock.acquire()\n",
        "  shared_variable +=1\n",
        "  lock.release()\n",
        "\n",
        "num1 = threading.Thread(target =increment_variable)\n",
        "num2 = threading.Thread(target = increment_variable)\n",
        "\n",
        "num1.start()\n",
        "num2.start()\n",
        "\n",
        "num1.join()\n",
        "num2.join()\n",
        "\n",
        "print (\"shared variable value \",shared_variable)"
      ]
    },
    {
      "cell_type": "markdown",
      "metadata": {
        "id": "mxAkVjnEYbXY"
      },
      "source": [
        "67.Here's a Python program that creates a thread to count down from 5 to 0 and prints \"Blastoff!\" when the count reaches 0:"
      ]
    },
    {
      "cell_type": "code",
      "execution_count": null,
      "metadata": {
        "colab": {
          "base_uri": "https://localhost:8080/"
        },
        "id": "QJ3ba2dWX7jm",
        "outputId": "7e8bd3e5-3c03-4691-ea8c-43ae3037247c"
      },
      "outputs": [
        {
          "name": "stdout",
          "output_type": "stream",
          "text": [
            "5\n",
            "4\n",
            "3\n",
            "2\n",
            "1\n",
            "blastoff!\n"
          ]
        }
      ],
      "source": [
        "import threading as s\n",
        "import time\n",
        "\n",
        "def countdown():\n",
        "  for i in range (5,0,-1):\n",
        "    print (i)\n",
        "    time.sleep(1)\n",
        "  print (\"blastoff!\")\n",
        "\n",
        "thread1 = s.Thread(target = countdown())\n",
        "\n",
        "thread1.start()"
      ]
    },
    {
      "cell_type": "markdown",
      "metadata": {
        "id": "ry1KaRbJZvMT"
      },
      "source": [
        "68.Write a program that creates a thread to print the Fibonacci sequence up to a certain number n. The main thread should prompt the user for the value of n."
      ]
    },
    {
      "cell_type": "code",
      "execution_count": null,
      "metadata": {
        "colab": {
          "base_uri": "https://localhost:8080/"
        },
        "id": "c3yWiXvZZjig",
        "outputId": "ae26cdca-9322-494d-a353-5034c63ea3a0"
      },
      "outputs": [
        {
          "name": "stdout",
          "output_type": "stream",
          "text": [
            "enter a number : 9\n",
            "0112358"
          ]
        }
      ],
      "source": [
        "import threading\n",
        "\n",
        "def fib(n):\n",
        "  # print the fibonachi sequence up to n\n",
        "\n",
        "  a,b = 0,1\n",
        "  while a <= n:\n",
        "    print (a,end='')\n",
        "    a,b= b,a+b\n",
        "\n",
        "n = int(input(\"enter a number : \"))\n",
        "\n",
        "t = threading.Thread(target = fib,args = (n,))\n",
        "t.start()\n",
        "\n",
        "t.join()"
      ]
    },
    {
      "cell_type": "markdown",
      "metadata": {
        "id": "RbyLB9kWe6DE"
      },
      "source": [
        "69.Write a program that creates two threads to add and subtract numbers from a shared variable. The shared variable should start at 0, and each thread should perform 10 iterations of adding or subtracting a random integer between 1 and 10. The program should print the final value of the shared variable."
      ]
    },
    {
      "cell_type": "code",
      "execution_count": null,
      "metadata": {
        "colab": {
          "base_uri": "https://localhost:8080/"
        },
        "id": "xGuJXwAOerxZ",
        "outputId": "a9993180-cb02-486a-84d7-4c0be5433c0e"
      },
      "outputs": [
        {
          "name": "stdout",
          "output_type": "stream",
          "text": [
            "subtracted 9 from shared variable\n",
            "subtracted 3 from shared variable\n",
            "subtracted 8 from shared variable\n",
            "subtracted 6 from shared variable\n",
            "subtracted 3 from shared variable\n",
            "subtracted 8 from shared variable\n",
            "subtracted 5 from shared variable\n",
            "subtracted 8 from shared variable\n",
            "subtracted 5 from shared variable\n",
            "subtracted 4 from shared variable\n",
            "Final value of shared variable is 0\n"
          ]
        }
      ],
      "source": [
        "import threading\n",
        "import random\n",
        "import time\n",
        "\n",
        "\n",
        "class addthread(threading.Thread):\n",
        "  def __init__(self,shared_var):\n",
        "    super().__init__()\n",
        "    self.shared_var = shared_var\n",
        "\n",
        "\n",
        "  def rub(self):\n",
        "    for i in range(10):\n",
        "      num = random.randint(1,10)\n",
        "      self.shared_var+=num\n",
        "      print(\"added\",num,\"to shared variable\")\n",
        "      time.sleep(0.1)\n",
        "\n",
        "class substractthread(threading.Thread):\n",
        "  def __init__(self,shared_var):\n",
        "    super().__init__()\n",
        "    self.shared_var = shared_var\n",
        "\n",
        "  def run(self):\n",
        "    for i in range(10):\n",
        "      num = random.randint(1,10)\n",
        "      self.shared_var -=num\n",
        "      print (\"subtracted\",num,\"from shared variable\")\n",
        "      time.sleep(0.1)\n",
        "\n",
        "shared_var = 0\n",
        "add_thread = addthread(shared_var)\n",
        "subtract_thread = substractthread(shared_var)\n",
        "\n",
        "add_thread.start()\n",
        "subtract_thread.start()\n",
        "\n",
        "add_thread.join()\n",
        "subtract_thread.join()\n",
        "\n",
        "print(\"Final value of shared variable is\", shared_var)\n",
        "\n",
        "\n",
        "\n",
        "\n"
      ]
    },
    {
      "cell_type": "markdown",
      "metadata": {
        "id": "DhlDtJiRi5Za"
      },
      "source": [
        "70.Write a program that creates a thread to calculate the sum of the numbers from 1 to 100 and prints the result."
      ]
    },
    {
      "cell_type": "code",
      "execution_count": null,
      "metadata": {
        "colab": {
          "base_uri": "https://localhost:8080/"
        },
        "id": "ROnZrhXni8wk",
        "outputId": "560d0b5a-d668-4d11-fcde-c108f61a4916"
      },
      "outputs": [
        {
          "name": "stdout",
          "output_type": "stream",
          "text": [
            "sum of the number from 1 to 100 is : 5050\n"
          ]
        }
      ],
      "source": [
        "import threading\n",
        "\n",
        "def sum_numbers():\n",
        "  result = sum(range(1,101))\n",
        "  print (\"sum of the number from 1 to 100 is :\", result)\n",
        "\n",
        "\n",
        "thread = threading.Thread(target = sum_numbers)\n",
        "thread.start()\n",
        "thread.join()\n"
      ]
    },
    {
      "cell_type": "markdown",
      "metadata": {
        "id": "GFC9ztjiWivF"
      },
      "source": [
        "71.Write a Python program to create two processes that print out the numbers from 1 to 10 simultaneously."
      ]
    },
    {
      "cell_type": "code",
      "execution_count": null,
      "metadata": {
        "colab": {
          "base_uri": "https://localhost:8080/"
        },
        "id": "DbHxif4mkhen",
        "outputId": "9bb9371a-33ef-41b1-a60b-c08c7fd2e526"
      },
      "outputs": [
        {
          "name": "stdout",
          "output_type": "stream",
          "text": [
            "1\n",
            "2\n",
            "3\n",
            "4\n",
            "5\n",
            "6\n",
            "7\n",
            "8\n",
            "9\n",
            "10\n"
          ]
        }
      ],
      "source": [
        "from multiprocessing import process\n",
        "\n",
        "def print_number (start,end):\n",
        "    for i in range(start,end+1):\n",
        "      print (i)\n",
        "\n",
        "if __name__ == '__main__':\n",
        "\n",
        "  p1 = Process (target = print_number,args = (1,5))\n",
        "  p2 = Process (target = print_number,args = (6,10))\n",
        "\n",
        "  p1.start()\n",
        "\n",
        "\n",
        "  p1.join()\n",
        "\n",
        "  p2.start()\n",
        "\n",
        "  p2.join()\n",
        "\n",
        "\n",
        "\n",
        "\n"
      ]
    },
    {
      "cell_type": "markdown",
      "metadata": {
        "id": "9EYgJgY3YXHd"
      },
      "source": [
        "72.Write a Python program that creates four processes and computes the sum of the first 1000 integers using multiprocessing"
      ]
    },
    {
      "cell_type": "code",
      "execution_count": null,
      "metadata": {
        "colab": {
          "base_uri": "https://localhost:8080/"
        },
        "id": "1IGIW6qpYcYP",
        "outputId": "87a70bce-70c3-45d3-f657-6f385d3fbd5c"
      },
      "outputs": [
        {
          "name": "stdout",
          "output_type": "stream",
          "text": [
            "Total:  500500\n"
          ]
        }
      ],
      "source": [
        "from multiprocessing import Process,Value\n",
        "\n",
        "\n",
        "def  compute_sum(start,end,total):\n",
        "  for i in range(start,end+1):\n",
        "    with total.get_lock():\n",
        "      total.value +=i\n",
        "\n",
        "if __name__=='__main__':\n",
        "  total = Value('i',0)\n",
        "\n",
        "\n",
        "  p1 = Process(target=compute_sum,args=(1,250,total))\n",
        "  p2 = Process(target=compute_sum,args=(251,500,total))\n",
        "  p3 = Process(target=compute_sum,args=(501,750,total))\n",
        "  p4 = Process(target=compute_sum,args=(751,1000,total))\n",
        "\n",
        "\n",
        "  p1.start()\n",
        "  p2.start()\n",
        "  p3.start()\n",
        "  p4.start()\n",
        "\n",
        "  p1.join()\n",
        "  p2.join()\n",
        "  p3.join()\n",
        "  p4.join()\n",
        "\n",
        "\n",
        "  print (\"Total: \",total.value)\n",
        "\n",
        "\n",
        "\n",
        "\n",
        "\n"
      ]
    },
    {
      "cell_type": "markdown",
      "metadata": {
        "id": "mekBfbmya0eI"
      },
      "source": [
        "73.Write a Python program that creates two processes and communicates between them using a Queue. The first process should send a list of numbers to the second process, which should calculate the sum of the numbers and send it back to the first process."
      ]
    },
    {
      "cell_type": "code",
      "execution_count": null,
      "metadata": {
        "id": "fmplomwAaQDL"
      },
      "outputs": [],
      "source": [
        " from multiprocessing import Process, Queue\n",
        "\n",
        "\n",
        " def calculate_sum (numbers,q):\n",
        "\n",
        "    \"\"\"this function takes a list of numbers and calculates the sum of them.\n",
        "    the result is put into a queue to be returned to the main process.\"\"\"\n",
        "\n",
        "    result= sum(numbers)\n",
        "    q.put(result)\n",
        "\n",
        "\n",
        "if __name__  =='__main__':\n",
        "  # define the list of numbers\n",
        "  numbers =[1,2,3,4,5,6,7,8,9]\n",
        "\n",
        "  # create a queue to communicate between process\n",
        "\n",
        "  q = Queue()\n",
        "\n",
        "  # create a process to calculate the sum of numbers\n",
        "\n",
        "  p=Process(target = calculate_sum,args = (numbers,q))\n",
        "  p.start\n",
        "\n",
        "  result = q.get()\n",
        "\n",
        "  print (f\"the sum of the numbers {numbers} is {result}\")"
      ]
    },
    {
      "cell_type": "markdown",
      "metadata": {
        "id": "DjkZv5MT64c2"
      },
      "source": [
        "74.Write a program to find the maximum number in a list of lists using multiprocessing."
      ]
    },
    {
      "cell_type": "code",
      "execution_count": null,
      "metadata": {
        "colab": {
          "base_uri": "https://localhost:8080/"
        },
        "id": "zjd0sBMu6168",
        "outputId": "ae0ef444-f039-4dc7-b21c-1deb0cab709c"
      },
      "outputs": [
        {
          "name": "stdout",
          "output_type": "stream",
          "text": [
            "[7, 8, 9]\n"
          ]
        }
      ],
      "source": [
        "import multiprocessing\n",
        "\n",
        "def find_max(lst):\n",
        "  return max(nums)\n",
        "\n",
        "if __name__=='__main__':\n",
        "  nums = [[1,2,3],[4,5,6],[7,8,9]]\n",
        "  with multiprocessing.Pool(processes = 3)as pool:\n",
        "\n",
        "          result=pool.map(find_max,nums)\n",
        "  print (max(result))\n"
      ]
    },
    {
      "cell_type": "markdown",
      "metadata": {
        "id": "ePOHxbN68Z4v"
      },
      "source": [
        "75.Write a Python program that uses the Pool class from the multiprocessing\n",
        "\n",
        "*   List item\n",
        "*   List item\n",
        "\n",
        "module to calculate the squares of a list of integers."
      ]
    },
    {
      "cell_type": "code",
      "execution_count": null,
      "metadata": {
        "colab": {
          "base_uri": "https://localhost:8080/"
        },
        "id": "ZNxb5XZ48DAQ",
        "outputId": "cf1d5df3-5514-4dda-b4d7-87affb7b0dda"
      },
      "outputs": [
        {
          "name": "stdout",
          "output_type": "stream",
          "text": [
            "[1, 4, 9, 16, 25]\n"
          ]
        }
      ],
      "source": [
        "import multiprocessing\n",
        "\n",
        "def square(x):\n",
        "  return x**2\n",
        "\n",
        "if __name__ == '__main__':\n",
        "  with multiprocessing.Pool(processes=4) as pool:\n",
        "    numbers = [1, 2, 3, 4, 5]\n",
        "    result = pool.map(square, numbers)\n",
        "\n",
        "    print (result)\n",
        "\n"
      ]
    },
    {
      "cell_type": "markdown",
      "metadata": {
        "id": "9rI-L5uJ9xJi"
      },
      "source": [
        "76.How do you create a new process using the multiprocessing module in Python?"
      ]
    },
    {
      "cell_type": "code",
      "execution_count": null,
      "metadata": {
        "colab": {
          "base_uri": "https://localhost:8080/"
        },
        "id": "F9qSQ5HC89yH",
        "outputId": "d27d8452-b1e3-4ebe-90a3-8a0949c2cd7d"
      },
      "outputs": [
        {
          "name": "stdout",
          "output_type": "stream",
          "text": [
            "this is child process\n"
          ]
        }
      ],
      "source": [
        "import multiprocessing\n",
        "\n",
        "def my_function():\n",
        "  print (\"this is child process\")\n",
        "\n",
        "if __name__ == '__main__':\n",
        "  p = multiprocessing.Process(target=my_function)\n",
        "  p.start()\n",
        "\n",
        "\n",
        "\n",
        "\n"
      ]
    },
    {
      "cell_type": "markdown",
      "metadata": {
        "id": "TQS6HOozDNBU"
      },
      "source": [
        "77.How do you use a Pool to execute a function with multiple arguments in parallel?"
      ]
    },
    {
      "cell_type": "code",
      "execution_count": null,
      "metadata": {
        "colab": {
          "base_uri": "https://localhost:8080/"
        },
        "id": "6GiZzvlzCOkO",
        "outputId": "38bb9d87-6347-49db-bee7-1d5d5431d978"
      },
      "outputs": [
        {
          "name": "stdout",
          "output_type": "stream",
          "text": [
            "[6, 20]\n"
          ]
        }
      ],
      "source": [
        "import multiprocessing\n",
        "\n",
        "def my_function(num1,num2):\n",
        "  return num1 * num2\n",
        "\n",
        "if __name__ == '__main__':\n",
        "  with multiprocessing.Pool(processes=2)as pool:\n",
        "    result = pool.starmap(my_function,[(2,3),(4,5)])\n",
        "    print (result)"
      ]
    },
    {
      "cell_type": "markdown",
      "metadata": {
        "id": "jI6B9zxZEBpK"
      },
      "source": [
        "78.Write a Python program to calculate the sum of squares of numbers in a list using multiprocessing."
      ]
    },
    {
      "cell_type": "code",
      "execution_count": null,
      "metadata": {
        "colab": {
          "base_uri": "https://localhost:8080/"
        },
        "id": "bZqsgbApD7tJ",
        "outputId": "84dab9de-2b6a-4fad-93e3-104f426f05ec"
      },
      "outputs": [
        {
          "name": "stdout",
          "output_type": "stream",
          "text": [
            "sum of squres of [1, 2, 3, 4, 5, 6] is 0\n"
          ]
        }
      ],
      "source": [
        "import multiprocessing\n",
        "\n",
        "def square_sum (numbers,result):\n",
        "   \"\"\"Calculate the sum of squares of numbers and store the result in the given shared array.\"\"\"\n",
        "\n",
        "   total = 0\n",
        "   for num in numbers:\n",
        "    total += num**2\n",
        "   result.Value = total\n",
        "\n",
        "if __name__ == '__main__':\n",
        "  nums = [1,2,3,4,5,6]\n",
        "  result = multiprocessing.Value('i')\n",
        "  p = multiprocessing.Process(target = square_sum,args = (nums,result))\n",
        "  p.start()\n",
        "  p.join()\n",
        "  print (f\"sum of squres of {nums} is {result.value}\")"
      ]
    },
    {
      "cell_type": "markdown",
      "metadata": {
        "id": "lT_yLq4RFWYu"
      },
      "source": [
        "79.Write a Python program that uses the multiprocessing module to calculate the sum of a large list of integers."
      ]
    },
    {
      "cell_type": "code",
      "execution_count": null,
      "metadata": {
        "colab": {
          "base_uri": "https://localhost:8080/"
        },
        "id": "aTt4O3CxFS5N",
        "outputId": "582c1785-c456-49da-f018-f355b7180836"
      },
      "outputs": [
        {
          "name": "stdout",
          "output_type": "stream",
          "text": [
            "7800000\n"
          ]
        }
      ],
      "source": [
        "import multiprocessing\n",
        "\n",
        "\n",
        "def sum_worker(data_chunk):\n",
        "  return sum(data_chunk)\n",
        "def main():\n",
        "  data = [1, 2, 3, 4, 5, 6, 7, 8, 9, 10,11,12] * 100000\n",
        "\n",
        "  pool = multiprocessing.Pool(processes = 4)\n",
        "  chunksize = len(data)//4\n",
        "  chunks= [data[i:i+chunksize] for i in range(0,len(data),chunksize)]\n",
        "\n",
        "  results =pool.map(sum_worker,chunks)\n",
        "  pool.close()\n",
        "  pool.join()\n",
        "  total = sum(results)\n",
        "  print(total)\n",
        "\n",
        "if __name__ == '__main__':\n",
        "  main()\n",
        "\n"
      ]
    },
    {
      "cell_type": "markdown",
      "metadata": {
        "id": "ZO0bMxI4G8Fw"
      },
      "source": [
        "80.Write a Python program that uses the multiprocessing module to parallelize the computation of the factorial of a number."
      ]
    },
    {
      "cell_type": "code",
      "execution_count": null,
      "metadata": {
        "colab": {
          "base_uri": "https://localhost:8080/"
        },
        "id": "RhQAl-ODG0RV",
        "outputId": "511ef9d7-5e73-460f-a97e-57b3df90150f"
      },
      "outputs": [
        {
          "name": "stdout",
          "output_type": "stream",
          "text": [
            "the factorial of the numbers 1 to 10 are :[1, 2, 6, 24, 120, 720, 5040, 40320, 362880, 3628800]\n"
          ]
        }
      ],
      "source": [
        "import multiprocessing\n",
        "\n",
        "def factorial(n):\n",
        "  if n==0:\n",
        "    return 1\n",
        "  else:\n",
        "    return n * factorial(n-1)\n",
        "\n",
        "def factorial_worker(n):\n",
        "  return factorial(n)\n",
        "\n",
        "def main():\n",
        "  n = 10\n",
        "  pool= multiprocessing.Pool(processes=4)\n",
        "  results = pool.map(factorial_worker,range(1,n+1))\n",
        "  pool.close()\n",
        "  pool.join()\n",
        "\n",
        "  print (f\"the factorial of the numbers 1 to {n} are :{results}\")\n",
        "\n",
        "if __name__ == '__main__':\n",
        "\n",
        "  main()"
      ]
    },
    {
      "cell_type": "markdown",
      "metadata": {
        "id": "YW7bwhlehFm5"
      },
      "source": [
        "81. Write a Python program that prompts the user for two integers and divides the first integer by the second integer. If the either variable are none integer then print the value error and  second integer is zero, catch the ZeroDivisionError and print an error message to the user.\n",
        "\n",
        "\n"
      ]
    },
    {
      "cell_type": "code",
      "execution_count": null,
      "metadata": {
        "colab": {
          "base_uri": "https://localhost:8080/"
        },
        "id": "9P_o9qImIBFF",
        "outputId": "b74b4c19-be83-4b71-814e-d1698bc5b3bd"
      },
      "outputs": [
        {
          "name": "stdout",
          "output_type": "stream",
          "text": [
            "enter the first integer : 5\n",
            "enter the second integer : 6\n",
            "result :  0.8333333333333334\n"
          ]
        }
      ],
      "source": [
        "while True:\n",
        "  try:\n",
        "     x = int(input(\"enter the first integer : \"))\n",
        "     y = int(input(\"enter the second integer : \"))\n",
        "     result = x/y\n",
        "     print(\"result : \", result)\n",
        "     break\n",
        "  except ValueError:\n",
        "    print (\"please enter integer only.\")\n",
        "  except ZeroDivisionError:\n",
        "    print(\"Error:division by zero. Please enter a non-zero value for the second integer.\")"
      ]
    },
    {
      "cell_type": "markdown",
      "metadata": {
        "id": "6Qfj79NWjfTX"
      },
      "source": [
        "82.Write a Python program that prompts the user for a password and checks whether the password meets certain criteria (e.g., at least 8 characters, contains at least one uppercase letter, etc.). If the password does not meet the criteria, raise a custom exception called PasswordError with a custom error message.\n",
        "\n"
      ]
    },
    {
      "cell_type": "code",
      "execution_count": null,
      "metadata": {
        "id": "FrpQLzemiR4M"
      },
      "outputs": [],
      "source": [
        "class passworderror(Exception):\n",
        "\n",
        "  pass\n",
        "\n",
        "def check_password(password):\n",
        "  # check password criteria\n",
        "\n",
        "  if len(password)<8:\n",
        "    raise passworderror(\"enter:passowrd must be 8 charactor long\")\n",
        "\n",
        "  elif not any(char.isupper()for char in password):\n",
        "    raise passworderror(\"enter:password must contain one uppercase latter\")\n",
        "\n",
        "  elif not any (char.isdigit()for char in password):\n",
        "    raise passworderror (\"error:password must contain one digit\")\n",
        "  elif not any(char in ['$','@','#']for char in password):\n",
        "    raise passworderror(\"error : password mustcontain at least one spacial charactor\")\n",
        "  else:\n",
        "    print (\"password is valid\")\n",
        "\n",
        "\n",
        "password =input(\"enter a password : \")\n",
        "\n",
        "# check password\n",
        "try:\n",
        "  check_password(password)\n",
        "\n",
        "except passworderror as e:\n",
        "  print (e)"
      ]
    },
    {
      "cell_type": "markdown",
      "metadata": {
        "id": "Ma4O6XRsn8rn"
      },
      "source": [
        "83.Write a Python program that prompts the user for a number and calculates the square root of the number using the math.sqrt() function. If the number is negative, raise a ValueError with a custom error message.\n"
      ]
    },
    {
      "cell_type": "code",
      "execution_count": 2,
      "metadata": {
        "id": "Rr0mgfYzoBkL",
        "colab": {
          "base_uri": "https://localhost:8080/"
        },
        "outputId": "0094a4d4-3e1b-4144-cff9-52d0aeaa108c"
      },
      "outputs": [
        {
          "output_type": "stream",
          "name": "stdout",
          "text": [
            "Enter a list of strings separated by commas: jj,gfds,dgdf,fdfgdf,fg\n",
            "sorted list : ['dgdf', 'fdfgdf', 'fg', 'gfds', 'jj']\n"
          ]
        }
      ],
      "source": [
        "while True:\n",
        "  try:\n",
        "    string_list = input(\"Enter a list of strings separated by commas: \").split(\",\")\n",
        "    # sort list in alphabetically order\n",
        "    sorted_list = sorted(string_list)\n",
        "\n",
        "\n",
        "    # Check if any string contains non-alphabetic characters\n",
        "\n",
        "    for string in sorted_list:\n",
        "\n",
        "      if not string.isalpha():\n",
        "\n",
        "        raise TypeError(\"Error: list contain non alphabatic characters\")\n",
        "    print (\"sorted list :\",sorted_list)\n",
        "    break\n",
        "\n",
        "  except TypeError as e:\n",
        "    print (e)\n"
      ]
    },
    {
      "cell_type": "markdown",
      "metadata": {
        "id": "gth3Zc2DXRpV"
      },
      "source": [
        "84.Write a Python program that prompts the user for a number and calculates the square root of the number using the math.sqrt() function. If the number is negative, raise a ValueError with a custom error message."
      ]
    },
    {
      "cell_type": "code",
      "execution_count": 1,
      "metadata": {
        "colab": {
          "base_uri": "https://localhost:8080/"
        },
        "id": "bhgAjM9CptYg",
        "outputId": "26253d01-41cb-4cf7-e7e7-85325d68c5ba"
      },
      "outputs": [
        {
          "output_type": "stream",
          "name": "stdout",
          "text": [
            "enter a number : 545\n",
            "the sqrt root of  545.0 is 23.345235059857504\n"
          ]
        }
      ],
      "source": [
        "import math\n",
        "\n",
        "while True:\n",
        "  try:\n",
        "    # prompt user for number\n",
        "\n",
        "    num = float(input(\"enter a number : \"))\n",
        "\n",
        "    # check if number is negative\n",
        "    if num<0:\n",
        "      raise ValueError(\"error : number cannot be negative\")\n",
        "\n",
        "      # calculate square roor\n",
        "\n",
        "    result = math.sqrt(num)\n",
        "    print(\"the sqrt root of \",num,\"is\",result)\n",
        "    break\n",
        "  except ValueError as e:\n",
        "    print (e)"
      ]
    },
    {
      "cell_type": "markdown",
      "source": [
        "85.Write a Python program that prompts the user for a list of integers and calculates the average of the list. If the list is empty, raise a ValueError with a custom error message.\n"
      ],
      "metadata": {
        "id": "m6LkR1Vz_jEi"
      }
    },
    {
      "cell_type": "code",
      "execution_count": 5,
      "metadata": {
        "id": "WIAg7aMEZqu9",
        "colab": {
          "base_uri": "https://localhost:8080/"
        },
        "outputId": "903c797e-8ea4-4b1c-e5cc-01212ee2ca94"
      },
      "outputs": [
        {
          "output_type": "stream",
          "name": "stdout",
          "text": [
            "enter a list of integer(saperated by spaces): 6 8 4 6 5 9 0 3\n",
            "average of the list: 5.125\n"
          ]
        }
      ],
      "source": [
        "try :\n",
        "  # prompt user for a list of integers\n",
        "  num_list = [int(num)for num in input(\"enter a list of integer(saperated by spaces): \").split()]\n",
        "\n",
        "  # calculate the average of the list\n",
        "\n",
        "  avg = sum(num_list)/len(num_list)\n",
        "  print(\"average of the list:\",avg)\n",
        "\n",
        "  # raise a vlaueerror\n",
        "  if not num_list:\n",
        "    raise ValueError(\"error:list is empty\")\n",
        "\n",
        "except ValueError as e:\n",
        "  print (\"error\",e)"
      ]
    },
    {
      "cell_type": "markdown",
      "source": [
        "86.Write a function that takes a string as input and returns the number of vowels in the string. If the input is not a string, raise a TypeError with a custom error message.\n"
      ],
      "metadata": {
        "id": "N3Ih0drpDLK2"
      }
    },
    {
      "cell_type": "code",
      "source": [
        "def count_vowels(string):\n",
        "  try :\n",
        "    # check if input is a string\n",
        "    if not isinstance(string, str):\n",
        "\n",
        "      raise TypeError(\"input must be string\")\n",
        "      # Count and return the number of vowels in the string\n",
        "    vowels= \"aeiouAEIOU\"\n",
        "    return sum([1 for char in string if char in vowels])\n",
        "\n",
        "  except TypeError as e:\n",
        "    print(\"error:\",e)\n",
        ""
      ],
      "metadata": {
        "id": "Mg5ivDLuC1bK"
      },
      "execution_count": 22,
      "outputs": []
    },
    {
      "cell_type": "markdown",
      "source": [
        "87.write a python program how to handle simple runtime error?"
      ],
      "metadata": {
        "id": "ccbXodbvFq_d"
      }
    },
    {
      "cell_type": "code",
      "source": [
        "a = [1,2,3]\n",
        "try:\n",
        "   print(\"second element = %d\" %(a[1]))\n",
        "   # Throws error since there are only 3 elements in array\n",
        "   print (\"Fourth element = %d\" %(a[3]))\n",
        "except:\n",
        "  print(\"an error occurred\")\n",
        ""
      ],
      "metadata": {
        "colab": {
          "base_uri": "https://localhost:8080/"
        },
        "id": "sY-IWv_0FvFt",
        "outputId": "e9663e84-2aa8-4e69-fde1-e24b41a2a2eb"
      },
      "execution_count": 23,
      "outputs": [
        {
          "output_type": "stream",
          "name": "stdout",
          "text": [
            "second element = 2\n",
            "an error occurred\n"
          ]
        }
      ]
    },
    {
      "cell_type": "markdown",
      "source": [
        "88.write a program how to handle  multiple errors with one\n",
        "answer:# Program to handle multiple errors with one"
      ],
      "metadata": {
        "id": "yKMW4o_CGNn0"
      }
    },
    {
      "cell_type": "code",
      "source": [
        "def func(a):\n",
        "  if a < 4:\n",
        "    # throw zerodivision error for a =3\n",
        "    b = a/(a-3)\n",
        "    # throw name error if a>=4\n",
        "  print (\"Value of b = \",b)\n",
        "try:\n",
        "    func(3)\n",
        "    func(5)\n",
        "except ZeroDivisionError:\n",
        "\n",
        "  print(\"Zerodivision error occured and handled\")\n",
        "except NameError:\n",
        "  print(\"name error occured and handled\")\n",
        "except NameError:\n",
        "  print (\"name error occured and handled\")\n"
      ],
      "metadata": {
        "colab": {
          "base_uri": "https://localhost:8080/"
        },
        "id": "2-bwDxTTGURF",
        "outputId": "701e44c1-0341-427d-8cfd-89ef9549d7f1"
      },
      "execution_count": 27,
      "outputs": [
        {
          "output_type": "stream",
          "name": "stdout",
          "text": [
            "Zerodivision error occured and handled\n"
          ]
        }
      ]
    },
    {
      "cell_type": "markdown",
      "source": [
        "89. write a program to print the reciprocal of even numbers\n",
        "note:we might want to run a certain block of code if the code block inside try runs without any errors.\n",
        "For these cases, you can use the optional else keyword with the try statement."
      ],
      "metadata": {
        "id": "8aOhRCldH4m2"
      }
    },
    {
      "cell_type": "code",
      "source": [
        "try:\n",
        "  num = int(input(\"enter a number : \"))\n",
        "  assert num%2==0\n",
        "except:\n",
        "  print(\"not an even number\")\n",
        "\n",
        "else:\n",
        "  reciprocal = 1/num\n",
        "  print(reciprocal)"
      ],
      "metadata": {
        "colab": {
          "base_uri": "https://localhost:8080/"
        },
        "id": "kYBfC_22HXAk",
        "outputId": "ba767065-f414-4e06-e24d-3368222d0437"
      },
      "execution_count": 28,
      "outputs": [
        {
          "output_type": "stream",
          "name": "stdout",
          "text": [
            "enter a number : 45\n",
            "not an even number\n"
          ]
        }
      ]
    },
    {
      "cell_type": "markdown",
      "source": [
        "90.How to handle exceptions using the try, except, and finally statements write code"
      ],
      "metadata": {
        "id": "jxiwuZFfI1OV"
      }
    },
    {
      "cell_type": "code",
      "source": [
        "try:\n",
        "  num = int (input(\"enter a number : \"))\n",
        "  # divide the number by2\n",
        "  result = 2/num\n",
        "\n",
        "  print(\"result\",result)\n",
        "except ValueError:\n",
        "  print(\"error:you must enter a valid number\")\n",
        "\n",
        "except ZeroDivisionError:\n",
        "  print (\"error:cannot divide by zero\")\n",
        "\n",
        "finally:\n",
        "  print(\"thanks for using this programm\")"
      ],
      "metadata": {
        "colab": {
          "base_uri": "https://localhost:8080/"
        },
        "id": "7j6pS44oIXpI",
        "outputId": "27e52962-d761-45d9-e518-9ba5153a4365"
      },
      "execution_count": 29,
      "outputs": [
        {
          "output_type": "stream",
          "name": "stdout",
          "text": [
            "enter a number : 45\n",
            "result 0.044444444444444446\n",
            "thanks for using this programm\n"
          ]
        }
      ]
    },
    {
      "cell_type": "markdown",
      "source": [
        "91.Write a Python program to create a MySQL database and a table.**\n",
        "\n",
        "\n",
        "\n"
      ],
      "metadata": {
        "id": "bloAkPbYJyHJ"
      }
    },
    {
      "cell_type": "code",
      "source": [
        "import mysql.connector\n",
        "mydb = mysql.connector.connect(\n",
        "    host=\"localhost\",\n",
        "    user = \"root\",\n",
        "    password = \"password\"\n",
        "\n",
        ")\n",
        "mycursor = mydb.cursor()\n",
        "mycursor.excecute(\"Create database mydatabase\")\n",
        "mycursor.excecute(\"create table customers(name VARCHAR(255), address VARCHAR(255))\")"
      ],
      "metadata": {
        "colab": {
          "base_uri": "https://localhost:8080/",
          "height": 383
        },
        "id": "i6jJI4PhJtmU",
        "outputId": "efa95757-7c1c-48e7-b5e2-7252e01672af"
      },
      "execution_count": 31,
      "outputs": [
        {
          "output_type": "error",
          "ename": "ModuleNotFoundError",
          "evalue": "No module named 'mysql'",
          "traceback": [
            "\u001b[0;31m---------------------------------------------------------------------------\u001b[0m",
            "\u001b[0;31mModuleNotFoundError\u001b[0m                       Traceback (most recent call last)",
            "\u001b[0;32m<ipython-input-31-14d7f476ffa3>\u001b[0m in \u001b[0;36m<cell line: 1>\u001b[0;34m()\u001b[0m\n\u001b[0;32m----> 1\u001b[0;31m \u001b[0;32mimport\u001b[0m \u001b[0mmysql\u001b[0m\u001b[0;34m.\u001b[0m\u001b[0mconnector\u001b[0m\u001b[0;34m\u001b[0m\u001b[0;34m\u001b[0m\u001b[0m\n\u001b[0m\u001b[1;32m      2\u001b[0m mydb = mysql.connector.connect(\n\u001b[1;32m      3\u001b[0m     \u001b[0mhost\u001b[0m\u001b[0;34m=\u001b[0m\u001b[0;34m\"localhost\"\u001b[0m\u001b[0;34m,\u001b[0m\u001b[0;34m\u001b[0m\u001b[0;34m\u001b[0m\u001b[0m\n\u001b[1;32m      4\u001b[0m     \u001b[0muser\u001b[0m \u001b[0;34m=\u001b[0m \u001b[0;34m\"root\"\u001b[0m\u001b[0;34m,\u001b[0m\u001b[0;34m\u001b[0m\u001b[0;34m\u001b[0m\u001b[0m\n\u001b[1;32m      5\u001b[0m     \u001b[0mpassword\u001b[0m \u001b[0;34m=\u001b[0m \u001b[0;34m\"password\"\u001b[0m\u001b[0;34m\u001b[0m\u001b[0;34m\u001b[0m\u001b[0m\n",
            "\u001b[0;31mModuleNotFoundError\u001b[0m: No module named 'mysql'",
            "",
            "\u001b[0;31m---------------------------------------------------------------------------\u001b[0;32m\nNOTE: If your import is failing due to a missing package, you can\nmanually install dependencies using either !pip or !apt.\n\nTo view examples of installing some common dependencies, click the\n\"Open Examples\" button below.\n\u001b[0;31m---------------------------------------------------------------------------\u001b[0m\n"
          ],
          "errorDetails": {
            "actions": [
              {
                "action": "open_url",
                "actionText": "Open Examples",
                "url": "/notebooks/snippets/importing_libraries.ipynb"
              }
            ]
          }
        }
      ]
    },
    {
      "cell_type": "markdown",
      "source": [
        "92. Write a Python program to insert data into a MySQL table.\n",
        "\n"
      ],
      "metadata": {
        "id": "e6J-Uxe1OYPs"
      }
    },
    {
      "cell_type": "code",
      "source": [
        "import mysql.connector\n",
        "mydb = mysql.connector.connect(\n",
        "    host = \"localhost\",\n",
        "    user = \"username\",\n",
        "    password = \"password\",\n",
        "    database = \"mydatabase\"\n",
        "\n",
        ")\n",
        "mycursor = mydb.cursor()\n",
        "sql = \"insert into sutomers (name,address) values(%s,%s)\"\n",
        "val = (\"akash\",\"madhyapradesh\")\n",
        "mycursor.excecute(sql,val)\n",
        "mydb.commit()\n",
        "print(mycursor.rowcount,\"record inserted\")"
      ],
      "metadata": {
        "colab": {
          "base_uri": "https://localhost:8080/",
          "height": 383
        },
        "id": "zVvwcUFnOgSF",
        "outputId": "bb90961f-5f6f-4ffc-fa64-4ac52278285b"
      },
      "execution_count": 32,
      "outputs": [
        {
          "output_type": "error",
          "ename": "ModuleNotFoundError",
          "evalue": "No module named 'mysql'",
          "traceback": [
            "\u001b[0;31m---------------------------------------------------------------------------\u001b[0m",
            "\u001b[0;31mModuleNotFoundError\u001b[0m                       Traceback (most recent call last)",
            "\u001b[0;32m<ipython-input-32-e91230ffe385>\u001b[0m in \u001b[0;36m<cell line: 1>\u001b[0;34m()\u001b[0m\n\u001b[0;32m----> 1\u001b[0;31m \u001b[0;32mimport\u001b[0m \u001b[0mmysql\u001b[0m\u001b[0;34m.\u001b[0m\u001b[0mconnector\u001b[0m\u001b[0;34m\u001b[0m\u001b[0;34m\u001b[0m\u001b[0m\n\u001b[0m\u001b[1;32m      2\u001b[0m mydb = mysql.connector.connect(\n\u001b[1;32m      3\u001b[0m     \u001b[0mhost\u001b[0m \u001b[0;34m=\u001b[0m \u001b[0;34m\"localhost\"\u001b[0m\u001b[0;34m,\u001b[0m\u001b[0;34m\u001b[0m\u001b[0;34m\u001b[0m\u001b[0m\n\u001b[1;32m      4\u001b[0m     \u001b[0muser\u001b[0m \u001b[0;34m=\u001b[0m \u001b[0;34m\"username\"\u001b[0m\u001b[0;34m,\u001b[0m\u001b[0;34m\u001b[0m\u001b[0;34m\u001b[0m\u001b[0m\n\u001b[1;32m      5\u001b[0m     \u001b[0mpassword\u001b[0m \u001b[0;34m=\u001b[0m \u001b[0;34m\"password\"\u001b[0m\u001b[0;34m,\u001b[0m\u001b[0;34m\u001b[0m\u001b[0;34m\u001b[0m\u001b[0m\n",
            "\u001b[0;31mModuleNotFoundError\u001b[0m: No module named 'mysql'",
            "",
            "\u001b[0;31m---------------------------------------------------------------------------\u001b[0;32m\nNOTE: If your import is failing due to a missing package, you can\nmanually install dependencies using either !pip or !apt.\n\nTo view examples of installing some common dependencies, click the\n\"Open Examples\" button below.\n\u001b[0;31m---------------------------------------------------------------------------\u001b[0m\n"
          ],
          "errorDetails": {
            "actions": [
              {
                "action": "open_url",
                "actionText": "Open Examples",
                "url": "/notebooks/snippets/importing_libraries.ipynb"
              }
            ]
          }
        }
      ]
    },
    {
      "cell_type": "markdown",
      "source": [
        "93. Write a Python program to create an index on a MySQL table."
      ],
      "metadata": {
        "id": "On2Tylp0QLLv"
      }
    },
    {
      "cell_type": "code",
      "source": [
        "import mysql.connector\n",
        "mydb = mysql.connector.connect(\n",
        "  host=\"localhost\",\n",
        "  user=\"yourusername\",\n",
        "  password=\"yourpassword\",\n",
        "  database=\"mydatabase\"\n",
        ")\n",
        "mycursor = mydb.cursor()\n",
        "mycursor.execute(\"CREATE INDEX idx_name ON customers (name)\")"
      ],
      "metadata": {
        "colab": {
          "base_uri": "https://localhost:8080/",
          "height": 383
        },
        "id": "jqrOwf1ZQH5x",
        "outputId": "9ec61459-9e81-43bb-d5e6-0f5e71df38af"
      },
      "execution_count": 33,
      "outputs": [
        {
          "output_type": "error",
          "ename": "ModuleNotFoundError",
          "evalue": "No module named 'mysql'",
          "traceback": [
            "\u001b[0;31m---------------------------------------------------------------------------\u001b[0m",
            "\u001b[0;31mModuleNotFoundError\u001b[0m                       Traceback (most recent call last)",
            "\u001b[0;32m<ipython-input-33-dccc293a016b>\u001b[0m in \u001b[0;36m<cell line: 1>\u001b[0;34m()\u001b[0m\n\u001b[0;32m----> 1\u001b[0;31m \u001b[0;32mimport\u001b[0m \u001b[0mmysql\u001b[0m\u001b[0;34m.\u001b[0m\u001b[0mconnector\u001b[0m\u001b[0;34m\u001b[0m\u001b[0;34m\u001b[0m\u001b[0m\n\u001b[0m\u001b[1;32m      2\u001b[0m mydb = mysql.connector.connect(\n\u001b[1;32m      3\u001b[0m   \u001b[0mhost\u001b[0m\u001b[0;34m=\u001b[0m\u001b[0;34m\"localhost\"\u001b[0m\u001b[0;34m,\u001b[0m\u001b[0;34m\u001b[0m\u001b[0;34m\u001b[0m\u001b[0m\n\u001b[1;32m      4\u001b[0m   \u001b[0muser\u001b[0m\u001b[0;34m=\u001b[0m\u001b[0;34m\"yourusername\"\u001b[0m\u001b[0;34m,\u001b[0m\u001b[0;34m\u001b[0m\u001b[0;34m\u001b[0m\u001b[0m\n\u001b[1;32m      5\u001b[0m   \u001b[0mpassword\u001b[0m\u001b[0;34m=\u001b[0m\u001b[0;34m\"yourpassword\"\u001b[0m\u001b[0;34m,\u001b[0m\u001b[0;34m\u001b[0m\u001b[0;34m\u001b[0m\u001b[0m\n",
            "\u001b[0;31mModuleNotFoundError\u001b[0m: No module named 'mysql'",
            "",
            "\u001b[0;31m---------------------------------------------------------------------------\u001b[0;32m\nNOTE: If your import is failing due to a missing package, you can\nmanually install dependencies using either !pip or !apt.\n\nTo view examples of installing some common dependencies, click the\n\"Open Examples\" button below.\n\u001b[0;31m---------------------------------------------------------------------------\u001b[0m\n"
          ],
          "errorDetails": {
            "actions": [
              {
                "action": "open_url",
                "actionText": "Open Examples",
                "url": "/notebooks/snippets/importing_libraries.ipynb"
              }
            ]
          }
        }
      ]
    },
    {
      "cell_type": "markdown",
      "source": [
        "94. Write a Python program to join two tables in MySQL."
      ],
      "metadata": {
        "id": "BOM7YacrQdH3"
      }
    },
    {
      "cell_type": "code",
      "source": [
        "import mysql.connector\n",
        "mydb = mysql.connector.connect(\n",
        "  host=\"localhost\",\n",
        "  user=\"yourusername\",\n",
        "  password=\"yourpassword\",\n",
        "  database=\"mydatabase\"\n",
        ")\n",
        "mycursor = mydb.cursor()\n",
        "mycursor.execute(\"SELECT customers.name, orders.product_name FROM customers INNER JOIN orders ON customers.id = orders.customer_id\")\n",
        "myresult = mycursor.fetchall()\n",
        "for x in myresult:\n",
        "  print(x)"
      ],
      "metadata": {
        "colab": {
          "base_uri": "https://localhost:8080/",
          "height": 383
        },
        "id": "qgutIQcSQYmA",
        "outputId": "188f1006-2b49-4965-d8fb-0abfdcca2d26"
      },
      "execution_count": 34,
      "outputs": [
        {
          "output_type": "error",
          "ename": "ModuleNotFoundError",
          "evalue": "No module named 'mysql'",
          "traceback": [
            "\u001b[0;31m---------------------------------------------------------------------------\u001b[0m",
            "\u001b[0;31mModuleNotFoundError\u001b[0m                       Traceback (most recent call last)",
            "\u001b[0;32m<ipython-input-34-8ba86357e1a0>\u001b[0m in \u001b[0;36m<cell line: 1>\u001b[0;34m()\u001b[0m\n\u001b[0;32m----> 1\u001b[0;31m \u001b[0;32mimport\u001b[0m \u001b[0mmysql\u001b[0m\u001b[0;34m.\u001b[0m\u001b[0mconnector\u001b[0m\u001b[0;34m\u001b[0m\u001b[0;34m\u001b[0m\u001b[0m\n\u001b[0m\u001b[1;32m      2\u001b[0m mydb = mysql.connector.connect(\n\u001b[1;32m      3\u001b[0m   \u001b[0mhost\u001b[0m\u001b[0;34m=\u001b[0m\u001b[0;34m\"localhost\"\u001b[0m\u001b[0;34m,\u001b[0m\u001b[0;34m\u001b[0m\u001b[0;34m\u001b[0m\u001b[0m\n\u001b[1;32m      4\u001b[0m   \u001b[0muser\u001b[0m\u001b[0;34m=\u001b[0m\u001b[0;34m\"yourusername\"\u001b[0m\u001b[0;34m,\u001b[0m\u001b[0;34m\u001b[0m\u001b[0;34m\u001b[0m\u001b[0m\n\u001b[1;32m      5\u001b[0m   \u001b[0mpassword\u001b[0m\u001b[0;34m=\u001b[0m\u001b[0;34m\"yourpassword\"\u001b[0m\u001b[0;34m,\u001b[0m\u001b[0;34m\u001b[0m\u001b[0;34m\u001b[0m\u001b[0m\n",
            "\u001b[0;31mModuleNotFoundError\u001b[0m: No module named 'mysql'",
            "",
            "\u001b[0;31m---------------------------------------------------------------------------\u001b[0;32m\nNOTE: If your import is failing due to a missing package, you can\nmanually install dependencies using either !pip or !apt.\n\nTo view examples of installing some common dependencies, click the\n\"Open Examples\" button below.\n\u001b[0;31m---------------------------------------------------------------------------\u001b[0m\n"
          ],
          "errorDetails": {
            "actions": [
              {
                "action": "open_url",
                "actionText": "Open Examples",
                "url": "/notebooks/snippets/importing_libraries.ipynb"
              }
            ]
          }
        }
      ]
    },
    {
      "cell_type": "markdown",
      "source": [
        "95. Write a Python program to handle MySQL errors using exception\n",
        "handling."
      ],
      "metadata": {
        "id": "ox5dQD63QpBO"
      }
    },
    {
      "cell_type": "code",
      "source": [
        "import mysql.connector\n",
        "try:\n",
        "  mydb = mysql.connector.connect(\n",
        "    host=\"localhost\",\n",
        "    user=\"yourusername\",\n",
        "    password=\"yourpassword\",\n",
        "    database=\"mydatabase\"\n",
        "  )\n",
        "except mysql.connector.Error as err:\n",
        "    print (\"Something went wrong:{}\".format(err))\n",
        "else:\n",
        "    mycursor = mydb.cursor()\n",
        "    mycursor.excecute(\"select * from customers\")\n",
        "    myresult = mycursor.fetchall()\n",
        "    for x in myresult:\n",
        "      print(x)\n",
        "finally:\n",
        "   mydb.close()\n",
        ""
      ],
      "metadata": {
        "colab": {
          "base_uri": "https://localhost:8080/",
          "height": 383
        },
        "id": "4wSKcy3UQ1TF",
        "outputId": "a2fb8faa-a824-4067-ec59-5d15c17e7956"
      },
      "execution_count": 36,
      "outputs": [
        {
          "output_type": "error",
          "ename": "ModuleNotFoundError",
          "evalue": "No module named 'mysql'",
          "traceback": [
            "\u001b[0;31m---------------------------------------------------------------------------\u001b[0m",
            "\u001b[0;31mModuleNotFoundError\u001b[0m                       Traceback (most recent call last)",
            "\u001b[0;32m<ipython-input-36-3264bacc787f>\u001b[0m in \u001b[0;36m<cell line: 1>\u001b[0;34m()\u001b[0m\n\u001b[0;32m----> 1\u001b[0;31m \u001b[0;32mimport\u001b[0m \u001b[0mmysql\u001b[0m\u001b[0;34m.\u001b[0m\u001b[0mconnector\u001b[0m\u001b[0;34m\u001b[0m\u001b[0;34m\u001b[0m\u001b[0m\n\u001b[0m\u001b[1;32m      2\u001b[0m \u001b[0;32mtry\u001b[0m\u001b[0;34m:\u001b[0m\u001b[0;34m\u001b[0m\u001b[0;34m\u001b[0m\u001b[0m\n\u001b[1;32m      3\u001b[0m   mydb = mysql.connector.connect(\n\u001b[1;32m      4\u001b[0m     \u001b[0mhost\u001b[0m\u001b[0;34m=\u001b[0m\u001b[0;34m\"localhost\"\u001b[0m\u001b[0;34m,\u001b[0m\u001b[0;34m\u001b[0m\u001b[0;34m\u001b[0m\u001b[0m\n\u001b[1;32m      5\u001b[0m     \u001b[0muser\u001b[0m\u001b[0;34m=\u001b[0m\u001b[0;34m\"yourusername\"\u001b[0m\u001b[0;34m,\u001b[0m\u001b[0;34m\u001b[0m\u001b[0;34m\u001b[0m\u001b[0m\n",
            "\u001b[0;31mModuleNotFoundError\u001b[0m: No module named 'mysql'",
            "",
            "\u001b[0;31m---------------------------------------------------------------------------\u001b[0;32m\nNOTE: If your import is failing due to a missing package, you can\nmanually install dependencies using either !pip or !apt.\n\nTo view examples of installing some common dependencies, click the\n\"Open Examples\" button below.\n\u001b[0;31m---------------------------------------------------------------------------\u001b[0m\n"
          ],
          "errorDetails": {
            "actions": [
              {
                "action": "open_url",
                "actionText": "Open Examples",
                "url": "/notebooks/snippets/importing_libraries.ipynb"
              }
            ]
          }
        }
      ]
    },
    {
      "cell_type": "markdown",
      "source": [
        "96. Write a Python program to connect to a MongoDB database and insert\n",
        "data."
      ],
      "metadata": {
        "id": "7B4t9baGR0kS"
      }
    },
    {
      "cell_type": "code",
      "source": [
        "import pymongo\n",
        "myclient = pymongo.MongoClient(\"mongodb://localhost:27017/\")\n",
        "mydb = myclient[\"mydatabase\"]\n",
        "mycol = mydb[\"customers\"]\n",
        "mydict = {\"name\":\"akash\",\"address\":\"madhyapradesh\"}\n",
        "x = mycol.insert_one(mydict)\n",
        "print(x.inserted_id)\n"
      ],
      "metadata": {
        "colab": {
          "base_uri": "https://localhost:8080/",
          "height": 383
        },
        "id": "-DnMfluQRd_d",
        "outputId": "7e411bfb-aec5-427f-ecef-34a6b25c325b"
      },
      "execution_count": 37,
      "outputs": [
        {
          "output_type": "error",
          "ename": "ModuleNotFoundError",
          "evalue": "No module named 'pymongo'",
          "traceback": [
            "\u001b[0;31m---------------------------------------------------------------------------\u001b[0m",
            "\u001b[0;31mModuleNotFoundError\u001b[0m                       Traceback (most recent call last)",
            "\u001b[0;32m<ipython-input-37-27062080659e>\u001b[0m in \u001b[0;36m<cell line: 1>\u001b[0;34m()\u001b[0m\n\u001b[0;32m----> 1\u001b[0;31m \u001b[0;32mimport\u001b[0m \u001b[0mpymongo\u001b[0m\u001b[0;34m\u001b[0m\u001b[0;34m\u001b[0m\u001b[0m\n\u001b[0m\u001b[1;32m      2\u001b[0m \u001b[0mmyclient\u001b[0m \u001b[0;34m=\u001b[0m \u001b[0mpymongo\u001b[0m\u001b[0;34m.\u001b[0m\u001b[0mMongoClient\u001b[0m\u001b[0;34m(\u001b[0m\u001b[0;34m\"mongodb://localhost:27017/\"\u001b[0m\u001b[0;34m)\u001b[0m\u001b[0;34m\u001b[0m\u001b[0;34m\u001b[0m\u001b[0m\n\u001b[1;32m      3\u001b[0m \u001b[0mmydb\u001b[0m \u001b[0;34m=\u001b[0m \u001b[0mmyclient\u001b[0m\u001b[0;34m[\u001b[0m\u001b[0;34m\"mydatabase\"\u001b[0m\u001b[0;34m]\u001b[0m\u001b[0;34m\u001b[0m\u001b[0;34m\u001b[0m\u001b[0m\n\u001b[1;32m      4\u001b[0m \u001b[0mmycol\u001b[0m \u001b[0;34m=\u001b[0m \u001b[0mmydb\u001b[0m\u001b[0;34m[\u001b[0m\u001b[0;34m\"customers\"\u001b[0m\u001b[0;34m]\u001b[0m\u001b[0;34m\u001b[0m\u001b[0;34m\u001b[0m\u001b[0m\n\u001b[1;32m      5\u001b[0m \u001b[0mmydict\u001b[0m \u001b[0;34m=\u001b[0m \u001b[0;34m{\u001b[0m\u001b[0;34m\"name\"\u001b[0m\u001b[0;34m:\u001b[0m\u001b[0;34m\"akash\"\u001b[0m\u001b[0;34m,\u001b[0m\u001b[0;34m\"address\"\u001b[0m\u001b[0;34m:\u001b[0m\u001b[0;34m\"madhyapradesh\"\u001b[0m\u001b[0;34m}\u001b[0m\u001b[0;34m\u001b[0m\u001b[0;34m\u001b[0m\u001b[0m\n",
            "\u001b[0;31mModuleNotFoundError\u001b[0m: No module named 'pymongo'",
            "",
            "\u001b[0;31m---------------------------------------------------------------------------\u001b[0;32m\nNOTE: If your import is failing due to a missing package, you can\nmanually install dependencies using either !pip or !apt.\n\nTo view examples of installing some common dependencies, click the\n\"Open Examples\" button below.\n\u001b[0;31m---------------------------------------------------------------------------\u001b[0m\n"
          ],
          "errorDetails": {
            "actions": [
              {
                "action": "open_url",
                "actionText": "Open Examples",
                "url": "/notebooks/snippets/importing_libraries.ipynb"
              }
            ]
          }
        }
      ]
    },
    {
      "cell_type": "markdown",
      "source": [
        "97. Write a Python program to update data in a MongoDB database."
      ],
      "metadata": {
        "id": "phLeZI8LTI_u"
      }
    },
    {
      "cell_type": "code",
      "source": [
        "import pymongo\n",
        "myclient = pymongo.MongoClient(\"mongodb://localhost:27017//\")\n",
        "mydb = myclient[\"mydatabase\"]\n",
        "mycol = mydb[\"customers\"]\n",
        "myquery = {\"address\":\"madhyapradesh\"}\n",
        "newvalues = {\"$set\":{\"address\":\"delhi\"}}\n",
        "mycol.update_many(myquery,newvalues)\n",
        "print(\"documents updated:\",mycol.modified_count)"
      ],
      "metadata": {
        "colab": {
          "base_uri": "https://localhost:8080/",
          "height": 383
        },
        "id": "EfU-4-KbTPgu",
        "outputId": "70d1aad5-7188-4e5f-8384-1c7d98df3886"
      },
      "execution_count": 38,
      "outputs": [
        {
          "output_type": "error",
          "ename": "ModuleNotFoundError",
          "evalue": "No module named 'pymongo'",
          "traceback": [
            "\u001b[0;31m---------------------------------------------------------------------------\u001b[0m",
            "\u001b[0;31mModuleNotFoundError\u001b[0m                       Traceback (most recent call last)",
            "\u001b[0;32m<ipython-input-38-23832b0f437b>\u001b[0m in \u001b[0;36m<cell line: 1>\u001b[0;34m()\u001b[0m\n\u001b[0;32m----> 1\u001b[0;31m \u001b[0;32mimport\u001b[0m \u001b[0mpymongo\u001b[0m\u001b[0;34m\u001b[0m\u001b[0;34m\u001b[0m\u001b[0m\n\u001b[0m\u001b[1;32m      2\u001b[0m \u001b[0mmyclient\u001b[0m \u001b[0;34m=\u001b[0m \u001b[0mpymongo\u001b[0m\u001b[0;34m.\u001b[0m\u001b[0mMongoClient\u001b[0m\u001b[0;34m(\u001b[0m\u001b[0;34m\"mongodb://localhost:27017//\"\u001b[0m\u001b[0;34m)\u001b[0m\u001b[0;34m\u001b[0m\u001b[0;34m\u001b[0m\u001b[0m\n\u001b[1;32m      3\u001b[0m \u001b[0mmydb\u001b[0m \u001b[0;34m=\u001b[0m \u001b[0mmyclient\u001b[0m\u001b[0;34m[\u001b[0m\u001b[0;34m\"mydatabase\"\u001b[0m\u001b[0;34m]\u001b[0m\u001b[0;34m\u001b[0m\u001b[0;34m\u001b[0m\u001b[0m\n\u001b[1;32m      4\u001b[0m \u001b[0mmycol\u001b[0m \u001b[0;34m=\u001b[0m \u001b[0mmydb\u001b[0m\u001b[0;34m[\u001b[0m\u001b[0;34m\"customers\"\u001b[0m\u001b[0;34m]\u001b[0m\u001b[0;34m\u001b[0m\u001b[0;34m\u001b[0m\u001b[0m\n\u001b[1;32m      5\u001b[0m \u001b[0mmyquery\u001b[0m \u001b[0;34m=\u001b[0m \u001b[0;34m{\u001b[0m\u001b[0;34m\"address\"\u001b[0m\u001b[0;34m:\u001b[0m\u001b[0;34m\"madhyapradesh\"\u001b[0m\u001b[0;34m}\u001b[0m\u001b[0;34m\u001b[0m\u001b[0;34m\u001b[0m\u001b[0m\n",
            "\u001b[0;31mModuleNotFoundError\u001b[0m: No module named 'pymongo'",
            "",
            "\u001b[0;31m---------------------------------------------------------------------------\u001b[0;32m\nNOTE: If your import is failing due to a missing package, you can\nmanually install dependencies using either !pip or !apt.\n\nTo view examples of installing some common dependencies, click the\n\"Open Examples\" button below.\n\u001b[0;31m---------------------------------------------------------------------------\u001b[0m\n"
          ],
          "errorDetails": {
            "actions": [
              {
                "action": "open_url",
                "actionText": "Open Examples",
                "url": "/notebooks/snippets/importing_libraries.ipynb"
              }
            ]
          }
        }
      ]
    },
    {
      "cell_type": "markdown",
      "source": [
        "98. Write a Python program to handle MongoDB errors using exception\n",
        "handling."
      ],
      "metadata": {
        "id": "knulnEq2Udm7"
      }
    },
    {
      "cell_type": "code",
      "source": [
        "import pymongo\n",
        "try:\n",
        "  myclient = pymongo.MongoClient(\"mongodb://localhost:27017//\")\n",
        "  mydb = myclient[\"mydatabase\"]\n",
        "  mycol = mydb[\"customers\"]\n",
        "except pymongo.errors.ConnectionFailure as err:\n",
        "  print(\"could not connect to mongodb: {}\".format(err))\n",
        "else:\n",
        "  mydict = {\"name\":\"akash\",\"address\":\"madhyapradesh\"}\n",
        "  x = mycol.insert_one(mydict)\n",
        "  print(x.inserted_id)\n",
        "finally:\n",
        "  myclient.close()"
      ],
      "metadata": {
        "colab": {
          "base_uri": "https://localhost:8080/",
          "height": 383
        },
        "id": "DxphQZMEUqmJ",
        "outputId": "6a94256a-20a8-4dd1-e58f-ea9384e0d36e"
      },
      "execution_count": 39,
      "outputs": [
        {
          "output_type": "error",
          "ename": "ModuleNotFoundError",
          "evalue": "No module named 'pymongo'",
          "traceback": [
            "\u001b[0;31m---------------------------------------------------------------------------\u001b[0m",
            "\u001b[0;31mModuleNotFoundError\u001b[0m                       Traceback (most recent call last)",
            "\u001b[0;32m<ipython-input-39-8132d5df9017>\u001b[0m in \u001b[0;36m<cell line: 1>\u001b[0;34m()\u001b[0m\n\u001b[0;32m----> 1\u001b[0;31m \u001b[0;32mimport\u001b[0m \u001b[0mpymongo\u001b[0m\u001b[0;34m\u001b[0m\u001b[0;34m\u001b[0m\u001b[0m\n\u001b[0m\u001b[1;32m      2\u001b[0m \u001b[0;32mtry\u001b[0m\u001b[0;34m:\u001b[0m\u001b[0;34m\u001b[0m\u001b[0;34m\u001b[0m\u001b[0m\n\u001b[1;32m      3\u001b[0m   \u001b[0mmyclient\u001b[0m \u001b[0;34m=\u001b[0m \u001b[0mpymongo\u001b[0m\u001b[0;34m.\u001b[0m\u001b[0mMongoClient\u001b[0m\u001b[0;34m(\u001b[0m\u001b[0;34m\"mongodb://localhost:27017//\"\u001b[0m\u001b[0;34m)\u001b[0m\u001b[0;34m\u001b[0m\u001b[0;34m\u001b[0m\u001b[0m\n\u001b[1;32m      4\u001b[0m   \u001b[0mmydb\u001b[0m \u001b[0;34m=\u001b[0m \u001b[0mmyclient\u001b[0m\u001b[0;34m[\u001b[0m\u001b[0;34m\"mydatabase\"\u001b[0m\u001b[0;34m]\u001b[0m\u001b[0;34m\u001b[0m\u001b[0;34m\u001b[0m\u001b[0m\n\u001b[1;32m      5\u001b[0m   \u001b[0mmycol\u001b[0m \u001b[0;34m=\u001b[0m \u001b[0mmydb\u001b[0m\u001b[0;34m[\u001b[0m\u001b[0;34m\"customers\"\u001b[0m\u001b[0;34m]\u001b[0m\u001b[0;34m\u001b[0m\u001b[0;34m\u001b[0m\u001b[0m\n",
            "\u001b[0;31mModuleNotFoundError\u001b[0m: No module named 'pymongo'",
            "",
            "\u001b[0;31m---------------------------------------------------------------------------\u001b[0;32m\nNOTE: If your import is failing due to a missing package, you can\nmanually install dependencies using either !pip or !apt.\n\nTo view examples of installing some common dependencies, click the\n\"Open Examples\" button below.\n\u001b[0;31m---------------------------------------------------------------------------\u001b[0m\n"
          ],
          "errorDetails": {
            "actions": [
              {
                "action": "open_url",
                "actionText": "Open Examples",
                "url": "/notebooks/snippets/importing_libraries.ipynb"
              }
            ]
          }
        }
      ]
    },
    {
      "cell_type": "markdown",
      "source": [
        "99. Write a Python program to query a MongoDB database using\n",
        "aggregation."
      ],
      "metadata": {
        "id": "mXW3Vh34WgRF"
      }
    },
    {
      "cell_type": "code",
      "source": [
        "import pymongo\n",
        "myclient = pymongo.MongoClient(\"mongodb://localhost:27017/\")\n",
        "mydb = myclient[\"mydatabase\"]\n",
        "mycol = mydb[\"customers\"]\n",
        "pipeline = [\n",
        "  { \"$match\": { \"address\": \"madhyapradesh\" } },\n",
        "  { \"$group\": { \"_id\": \"$name\", \"count\": { \"$sum\": 1 } } }\n",
        "]\n",
        "result = mycol.aggregate(pipeline)\n",
        "for x in result:\n",
        "  print(x)"
      ],
      "metadata": {
        "colab": {
          "base_uri": "https://localhost:8080/",
          "height": 383
        },
        "id": "m7o9dLblVleh",
        "outputId": "5c69287d-76d3-42a2-ea39-f6bf9ed328a1"
      },
      "execution_count": 40,
      "outputs": [
        {
          "output_type": "error",
          "ename": "ModuleNotFoundError",
          "evalue": "No module named 'pymongo'",
          "traceback": [
            "\u001b[0;31m---------------------------------------------------------------------------\u001b[0m",
            "\u001b[0;31mModuleNotFoundError\u001b[0m                       Traceback (most recent call last)",
            "\u001b[0;32m<ipython-input-40-6ec522ab31f8>\u001b[0m in \u001b[0;36m<cell line: 1>\u001b[0;34m()\u001b[0m\n\u001b[0;32m----> 1\u001b[0;31m \u001b[0;32mimport\u001b[0m \u001b[0mpymongo\u001b[0m\u001b[0;34m\u001b[0m\u001b[0;34m\u001b[0m\u001b[0m\n\u001b[0m\u001b[1;32m      2\u001b[0m \u001b[0mmyclient\u001b[0m \u001b[0;34m=\u001b[0m \u001b[0mpymongo\u001b[0m\u001b[0;34m.\u001b[0m\u001b[0mMongoClient\u001b[0m\u001b[0;34m(\u001b[0m\u001b[0;34m\"mongodb://localhost:27017/\"\u001b[0m\u001b[0;34m)\u001b[0m\u001b[0;34m\u001b[0m\u001b[0;34m\u001b[0m\u001b[0m\n\u001b[1;32m      3\u001b[0m \u001b[0mmydb\u001b[0m \u001b[0;34m=\u001b[0m \u001b[0mmyclient\u001b[0m\u001b[0;34m[\u001b[0m\u001b[0;34m\"mydatabase\"\u001b[0m\u001b[0;34m]\u001b[0m\u001b[0;34m\u001b[0m\u001b[0;34m\u001b[0m\u001b[0m\n\u001b[1;32m      4\u001b[0m \u001b[0mmycol\u001b[0m \u001b[0;34m=\u001b[0m \u001b[0mmydb\u001b[0m\u001b[0;34m[\u001b[0m\u001b[0;34m\"customers\"\u001b[0m\u001b[0;34m]\u001b[0m\u001b[0;34m\u001b[0m\u001b[0;34m\u001b[0m\u001b[0m\n\u001b[1;32m      5\u001b[0m pipeline = [\n",
            "\u001b[0;31mModuleNotFoundError\u001b[0m: No module named 'pymongo'",
            "",
            "\u001b[0;31m---------------------------------------------------------------------------\u001b[0;32m\nNOTE: If your import is failing due to a missing package, you can\nmanually install dependencies using either !pip or !apt.\n\nTo view examples of installing some common dependencies, click the\n\"Open Examples\" button below.\n\u001b[0;31m---------------------------------------------------------------------------\u001b[0m\n"
          ],
          "errorDetails": {
            "actions": [
              {
                "action": "open_url",
                "actionText": "Open Examples",
                "url": "/notebooks/snippets/importing_libraries.ipynb"
              }
            ]
          }
        }
      ]
    },
    {
      "cell_type": "markdown",
      "source": [
        "100. Write a Python program to perform a text search on a MongoDB\n",
        "database."
      ],
      "metadata": {
        "id": "vSuu4GNnW33T"
      }
    },
    {
      "cell_type": "code",
      "source": [
        "import pymongo\n",
        "myclient = pymongo.MongoClient(\"mongodb://localhost:27017/\")\n",
        "mydb = myclient[\"mydatabase\"]\n",
        "mycol = mydb[\"customers\"]\n",
        "myquery = { \"$text\": { \"$search\": \"apple\" } }\n",
        "mydoc = mycol.find(myquery)\n",
        "for x in mydoc:\n",
        "  print(x)"
      ],
      "metadata": {
        "colab": {
          "base_uri": "https://localhost:8080/",
          "height": 383
        },
        "id": "3OQySHIqWpJf",
        "outputId": "2a2fb469-bcdf-4418-ed32-3e95ec7b5792"
      },
      "execution_count": 41,
      "outputs": [
        {
          "output_type": "error",
          "ename": "ModuleNotFoundError",
          "evalue": "No module named 'pymongo'",
          "traceback": [
            "\u001b[0;31m---------------------------------------------------------------------------\u001b[0m",
            "\u001b[0;31mModuleNotFoundError\u001b[0m                       Traceback (most recent call last)",
            "\u001b[0;32m<ipython-input-41-e392819293bc>\u001b[0m in \u001b[0;36m<cell line: 1>\u001b[0;34m()\u001b[0m\n\u001b[0;32m----> 1\u001b[0;31m \u001b[0;32mimport\u001b[0m \u001b[0mpymongo\u001b[0m\u001b[0;34m\u001b[0m\u001b[0;34m\u001b[0m\u001b[0m\n\u001b[0m\u001b[1;32m      2\u001b[0m \u001b[0mmyclient\u001b[0m \u001b[0;34m=\u001b[0m \u001b[0mpymongo\u001b[0m\u001b[0;34m.\u001b[0m\u001b[0mMongoClient\u001b[0m\u001b[0;34m(\u001b[0m\u001b[0;34m\"mongodb://localhost:27017/\"\u001b[0m\u001b[0;34m)\u001b[0m\u001b[0;34m\u001b[0m\u001b[0;34m\u001b[0m\u001b[0m\n\u001b[1;32m      3\u001b[0m \u001b[0mmydb\u001b[0m \u001b[0;34m=\u001b[0m \u001b[0mmyclient\u001b[0m\u001b[0;34m[\u001b[0m\u001b[0;34m\"mydatabase\"\u001b[0m\u001b[0;34m]\u001b[0m\u001b[0;34m\u001b[0m\u001b[0;34m\u001b[0m\u001b[0m\n\u001b[1;32m      4\u001b[0m \u001b[0mmycol\u001b[0m \u001b[0;34m=\u001b[0m \u001b[0mmydb\u001b[0m\u001b[0;34m[\u001b[0m\u001b[0;34m\"customers\"\u001b[0m\u001b[0;34m]\u001b[0m\u001b[0;34m\u001b[0m\u001b[0;34m\u001b[0m\u001b[0m\n\u001b[1;32m      5\u001b[0m \u001b[0mmyquery\u001b[0m \u001b[0;34m=\u001b[0m \u001b[0;34m{\u001b[0m \u001b[0;34m\"$text\"\u001b[0m\u001b[0;34m:\u001b[0m \u001b[0;34m{\u001b[0m \u001b[0;34m\"$search\"\u001b[0m\u001b[0;34m:\u001b[0m \u001b[0;34m\"apple\"\u001b[0m \u001b[0;34m}\u001b[0m \u001b[0;34m}\u001b[0m\u001b[0;34m\u001b[0m\u001b[0;34m\u001b[0m\u001b[0m\n",
            "\u001b[0;31mModuleNotFoundError\u001b[0m: No module named 'pymongo'",
            "",
            "\u001b[0;31m---------------------------------------------------------------------------\u001b[0;32m\nNOTE: If your import is failing due to a missing package, you can\nmanually install dependencies using either !pip or !apt.\n\nTo view examples of installing some common dependencies, click the\n\"Open Examples\" button below.\n\u001b[0;31m---------------------------------------------------------------------------\u001b[0m\n"
          ],
          "errorDetails": {
            "actions": [
              {
                "action": "open_url",
                "actionText": "Open Examples",
                "url": "/notebooks/snippets/importing_libraries.ipynb"
              }
            ]
          }
        }
      ]
    },
    {
      "cell_type": "code",
      "source": [],
      "metadata": {
        "id": "C_JUsf-_W_Zc"
      },
      "execution_count": null,
      "outputs": []
    },
    {
      "cell_type": "markdown",
      "source": [
        "101.Create a Flask application that displays \"Hello, World!\" on the homepage."
      ],
      "metadata": {
        "id": "BWHokuAqXDAT"
      }
    },
    {
      "cell_type": "code",
      "source": [
        "from flask import Flask\n",
        "app = Flask(_name_)\n",
        "@app.route(\"/\")\n",
        "def hello():\n",
        "    return \"Hello, World!\"\n",
        "if _name_ == \"_main_\":\n",
        "    app.run()"
      ],
      "metadata": {
        "colab": {
          "base_uri": "https://localhost:8080/",
          "height": 211
        },
        "id": "ZbhLYC9yXD4j",
        "outputId": "fb47935c-10ac-44f3-8946-1e8dc08efc7a"
      },
      "execution_count": 42,
      "outputs": [
        {
          "output_type": "error",
          "ename": "NameError",
          "evalue": "name '_name_' is not defined",
          "traceback": [
            "\u001b[0;31m---------------------------------------------------------------------------\u001b[0m",
            "\u001b[0;31mNameError\u001b[0m                                 Traceback (most recent call last)",
            "\u001b[0;32m<ipython-input-42-6542e70bbb07>\u001b[0m in \u001b[0;36m<cell line: 2>\u001b[0;34m()\u001b[0m\n\u001b[1;32m      1\u001b[0m \u001b[0;32mfrom\u001b[0m \u001b[0mflask\u001b[0m \u001b[0;32mimport\u001b[0m \u001b[0mFlask\u001b[0m\u001b[0;34m\u001b[0m\u001b[0;34m\u001b[0m\u001b[0m\n\u001b[0;32m----> 2\u001b[0;31m \u001b[0mapp\u001b[0m \u001b[0;34m=\u001b[0m \u001b[0mFlask\u001b[0m\u001b[0;34m(\u001b[0m\u001b[0m_name_\u001b[0m\u001b[0;34m)\u001b[0m\u001b[0;34m\u001b[0m\u001b[0;34m\u001b[0m\u001b[0m\n\u001b[0m\u001b[1;32m      3\u001b[0m \u001b[0;34m@\u001b[0m\u001b[0mapp\u001b[0m\u001b[0;34m.\u001b[0m\u001b[0mroute\u001b[0m\u001b[0;34m(\u001b[0m\u001b[0;34m\"/\"\u001b[0m\u001b[0;34m)\u001b[0m\u001b[0;34m\u001b[0m\u001b[0;34m\u001b[0m\u001b[0m\n\u001b[1;32m      4\u001b[0m \u001b[0;32mdef\u001b[0m \u001b[0mhello\u001b[0m\u001b[0;34m(\u001b[0m\u001b[0;34m)\u001b[0m\u001b[0;34m:\u001b[0m\u001b[0;34m\u001b[0m\u001b[0;34m\u001b[0m\u001b[0m\n\u001b[1;32m      5\u001b[0m     \u001b[0;32mreturn\u001b[0m \u001b[0;34m\"Hello, World!\"\u001b[0m\u001b[0;34m\u001b[0m\u001b[0;34m\u001b[0m\u001b[0m\n",
            "\u001b[0;31mNameError\u001b[0m: name '_name_' is not defined"
          ]
        }
      ]
    },
    {
      "cell_type": "code",
      "source": [],
      "metadata": {
        "id": "uVwteToPXISU"
      },
      "execution_count": null,
      "outputs": []
    },
    {
      "cell_type": "markdown",
      "source": [
        "102. Write a Flask route that takes a name parameter and returns \"Hello, [name]!\" as plain text."
      ],
      "metadata": {
        "id": "N3rPgPQdXLVc"
      }
    },
    {
      "cell_type": "code",
      "source": [
        "from flask import Flask\n",
        "app = Flask(__name__)\n",
        "@app.route(\"/hello/<name>\")\n",
        "def hello(name):\n",
        "    return f\"Hello, {name}!\"\n",
        "if __name__ == \"__main__\":\n",
        "    app.run()"
      ],
      "metadata": {
        "id": "n_qnpXpVXMM_"
      },
      "execution_count": null,
      "outputs": []
    },
    {
      "cell_type": "markdown",
      "source": [
        "103.  Write a Flask route that takes a number parameter and returns the square of that number as plain text."
      ],
      "metadata": {
        "id": "QJBfEgd9XOna"
      }
    },
    {
      "cell_type": "code",
      "source": [
        "from flask import Flask\n",
        "app = Flask(__name__)\n",
        "@app.route(\"/square/<int:num>\")\n",
        "def square(num):\n",
        "    return str(num**2)\n",
        "if __name__ == \"__main__\":\n",
        "    app.run()\n"
      ],
      "metadata": {
        "id": "FO4N98h2XQbT"
      },
      "execution_count": null,
      "outputs": []
    },
    {
      "cell_type": "markdown",
      "source": [
        "104.  Write a Flask route that displays a simple HTML form that asks for a name and returns \"Hello, [name]!\" when submitted."
      ],
      "metadata": {
        "id": "OP3DdYSyXSvb"
      }
    },
    {
      "cell_type": "code",
      "source": [
        "from flask import Flask, request, render_template\n",
        "app = Flask(__name__)\n",
        "@app.route(\"/\", methods=[\"GET\", \"POST\"])\n",
        "def hello():\n",
        "    if request.method == \"POST\":\n",
        "        name = request.form[\"name\"]\n",
        "        return f\"Hello, {name}!\"\n",
        "    else:\n",
        "        return render_template(\"index.html\")\n",
        "if __name__ == \"__main__\":\n",
        "    app.run()\n",
        "\n",
        "''' The corresponding index.html file should contain the following:\n",
        "<!doctype html>\n",
        "<html>\n",
        "  <body>\n",
        "    <form method=\"POST\">\n",
        "      <label for=\"name\">Name:</label>\n",
        "      <input type=\"text\" id=\"name\" name=\"name\">\n",
        "      <input type=\"submit\" value=\"Submit\">\n",
        "    </form>\n",
        "  </body>\n",
        "</html>'''"
      ],
      "metadata": {
        "id": "gTV1P5xXXUpH"
      },
      "execution_count": null,
      "outputs": []
    },
    {
      "cell_type": "markdown",
      "source": [
        "105.  Write a Flask route that displays a list of names in an HTML unordered list."
      ],
      "metadata": {
        "id": "s8bwaNDHXX3q"
      }
    },
    {
      "cell_type": "code",
      "source": [
        "from flask import Flask, render_template\n",
        "app = Flask(__name__)\n",
        "@app.route(\"/names\")\n",
        "def names():\n",
        "    names = [(\"jhon\", 35), (\"tom\", 30), (\"jerry\", 35)]\n",
        "    return render_template(\"names.html\", names=names)\n",
        "if __name__ == \"__main__\":\n",
        "    app.run()\n",
        "'''The corresponding names.html file should contain the following:\n",
        "<!doctype html>\n",
        "<html>\n",
        "  <body>\n",
        "    <table>\n",
        "      <thead>\n",
        "        <tr>\n",
        "          <th>Name</th>\n",
        "          <th>Age</th>\n",
        "        </tr>\n",
        "      </thead>\n",
        "      <tbody>\n",
        "        {% for name in names %}\n",
        "          <tr>\n",
        "            <td>{{ name[0] }}</td>\n",
        "            <td>{{ name[1] }}</td>\n",
        "          </tr>\n",
        "        {% endfor %}\n",
        "      </tbody>\n",
        "    </table>\n",
        "  </body>\n",
        "</html>'''\n"
      ],
      "metadata": {
        "id": "dgs2fnqHXaVi"
      },
      "execution_count": null,
      "outputs": []
    },
    {
      "cell_type": "markdown",
      "source": [
        "106.  Write a Flask route that displays a list of names in a table."
      ],
      "metadata": {
        "id": "CSdarEx2X2Uw"
      }
    },
    {
      "cell_type": "code",
      "source": [
        "from flask import Flask, render_template\n",
        "app = Flask(__name__)\n",
        "@app.route(\"/names\")\n",
        "def names():\n",
        "    names = [\"Alice\", \"Bob\", \"Charlie\"]\n",
        "    return render_template(\"names.html\", names=names)\n",
        "if __name__ == \"__main__\":\n",
        "    app.run()\n",
        "''' The corresponding names.html file should contain the following:\n",
        "<!doctype html>\n",
        "<html>\n",
        "  <body>\n",
        "    <form method=\"POST\">\n",
        "      <label for=\"name\">Name:</label>\n",
        "      <select id=\"name\" name=\"name\">\n",
        "        {% for name in names %}\n",
        "          <option value=\"{{ name }}\">{{ name }}</option>\n",
        "        {% endfor %}\n",
        "      </select>\n",
        "      <input type=\"submit\" value=\"Submit\">\n",
        "    </form>\n",
        "  </body>\n",
        "</html>'''"
      ],
      "metadata": {
        "id": "S1p51ISgX40b"
      },
      "execution_count": null,
      "outputs": []
    },
    {
      "cell_type": "markdown",
      "source": [
        "107.  Write a Flask route that displays a list of names in a dropdown menu."
      ],
      "metadata": {
        "id": "aK0t8JQtY-SG"
      }
    },
    {
      "cell_type": "code",
      "source": [
        "from flask import Flask, render_template\n",
        "app = Flask(__name__)\n",
        "@app.route(\"/names\")\n",
        "def names():\n",
        "    names = [\"Alice\", \"Bob\", \"Charlie\"]\n",
        "    return render_template(\"names.html\", names=names)\n",
        "if __name__ == \"__main__\":\n",
        "    app.run()\n",
        "''' The corresponding names.html file should contain the following:\n",
        "<!doctype html>\n",
        "<html>\n",
        "  <body>\n",
        "    <form method=\"POST\">\n",
        "      <label for=\"name\">Name:</label>\n",
        "      <select id=\"name\" name=\"name\">\n",
        "        {% for name in names %}\n",
        "          <option value=\"{{ name }}\">{{ name }}</option>\n",
        "        {% endfor %}\n",
        "      </select>\n",
        "      <input type=\"submit\" value=\"Submit\">\n",
        "    </form>\n",
        "  </body>\n",
        "</html>'''"
      ],
      "metadata": {
        "id": "k9apT7HnZAxV"
      },
      "execution_count": null,
      "outputs": []
    },
    {
      "cell_type": "markdown",
      "source": [
        "108.  Write a Flask route that receives data through a POST request and returns the data in JSON format."
      ],
      "metadata": {
        "id": "mLxU4nyqZDjF"
      }
    },
    {
      "cell_type": "code",
      "source": [
        "from flask import Flask, request, jsonify\n",
        "app = Flask(__name__)\n",
        "@app.route(\"/data\", methods=[\"POST\"])\n",
        "def data():\n",
        "    data = request.get_json()\n",
        "    return jsonify(data)\n",
        "if __name__ == \"__main__\":\n",
        "    app.run()"
      ],
      "metadata": {
        "id": "SQcoySrCZGr9"
      },
      "execution_count": null,
      "outputs": []
    },
    {
      "cell_type": "markdown",
      "source": [
        "109.  Write a Flask route that receives data through a POST request and returns the data in JSON format."
      ],
      "metadata": {
        "id": "IE-kbXoXZJXt"
      }
    },
    {
      "cell_type": "code",
      "source": [
        "from flask import Flask, send_from_directory\n",
        "app = Flask(__name__)\n",
        "@app.route(\"/static/<path:filename>\")\n",
        "def static_file(filename):\n",
        "    return send_from_directory(\"static\", filename)\n",
        "if __name__ == \"__main__\":\n",
        "    app.run()"
      ],
      "metadata": {
        "id": "qNuQI-KzZLkt"
      },
      "execution_count": null,
      "outputs": []
    },
    {
      "cell_type": "markdown",
      "source": [
        "110.  Write a Flask route that redirects the user to a different URL."
      ],
      "metadata": {
        "id": "iniWPMbGZO8t"
      }
    },
    {
      "cell_type": "code",
      "source": [
        "from flask import Flask, redirect\n",
        "app = Flask(__name__)\n",
        "@app.route(\"/\")\n",
        "def index():\n",
        "    return redirect(\"/hello\")\n",
        "@app.route(\"/hello\")\n",
        "def hello():\n",
        "    return \"Hello, World!\"\n",
        "if __name__ == \"__main__\":\n",
        "    app.run()"
      ],
      "metadata": {
        "id": "GAR3vet0ZPu0"
      },
      "execution_count": null,
      "outputs": []
    }
  ],
  "metadata": {
    "colab": {
      "provenance": []
    },
    "kernelspec": {
      "display_name": "Python 3",
      "name": "python3"
    },
    "language_info": {
      "name": "python"
    }
  },
  "nbformat": 4,
  "nbformat_minor": 0
}